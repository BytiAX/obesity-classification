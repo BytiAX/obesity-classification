{
 "cells": [
  {
   "cell_type": "markdown",
   "id": "7fbf1f62-a103-4f2e-9bb1-eb078c505aa3",
   "metadata": {},
   "source": [
    "# Obesity Classification"
   ]
  },
  {
   "cell_type": "markdown",
   "id": "e2c22518-d494-4cb6-b01e-f3a8c019d243",
   "metadata": {},
   "source": [
    "## Dataset\n",
    "\n",
    "### Columns\n",
    "- **ID**: Integer (Unique)\n",
    "- **Age**: Integer\n",
    "- **Gender**: String/Categorical (Male/Female)\n",
    "- **Height**: Integer (cm)\n",
    "- **Weight**: Integer (kg)\n",
    "- **BMI**: Float\n",
    "- **Label**: String/Categorical (e.g., Under Weight, Normal Weight, Overweight, Obese)\n",
    "\n",
    "### Data Size\n",
    "- **Total Columns**: 7\n",
    "- **Total Entries**: 108\n",
    "\n",
    "### Data Description\n",
    "- **Source**: [Obesity Classification Dataset](https://www.kaggle.com/datasets/sujithmandala/obesity-classification-dataset)\n",
    "- **Collection Method**: The specific method of data collection is not provided in the dataset description. It is recommended to review the dataset documentation on Kaggle for more details.\n",
    "- **Time Period**: The dataset does not specify a particular time frame for data collection.\n",
    "- **Licence**: Attribution 4.0 International (CC BY 4.0) -For more info please check Kaggle-\n",
    "- **Usability**: Scored 10.00 on Kaggle.\n",
    "\n",
    "### Data Quality\n",
    "- **Missing Values**: There is no missing values!\n",
    "\n",
    "\n",
    "## Machine Learning Algorithms\n",
    "\n",
    "### Selected Algorithms\n",
    "For this project, several algorithms were chosen to evaluate performance based on the dataset’s characteristics, size, and complexity:\n",
    "\n",
    "- **Linear SVC**: A linear support vector classifier, effective for linearly separable data. Chosen for its speed and efficiency in binary or multiclass classification with simpler decision boundaries.\n",
    "\n",
    "- **KNeighbors Classifier**: A non-parametric, instance-based algorithm that classifies data based on the nearest neighbors. Ideal for smaller datasets, as it captures local data patterns well.\n",
    "\n",
    "- **Random Forest Classifier (Ensemble Method)**: An ensemble-based model that builds multiple decision trees and averages them to improve robustness and accuracy. Effective for capturing complex, non-linear relationships and reducing overfitting.\n",
    "\n",
    "- **HistGradientBoosting Classifier**: A gradient boosting algorithm that builds trees sequentially, focusing on correcting previous errors. Works well with small to medium datasets, often outperforming traditional Random Forests by capturing subtler patterns.\n",
    "\n",
    "For more info please visit: [Scikit Learn Choosing the Right Estimator](https://scikit-learn.org/1.3/tutorial/machine_learning_map/)\n"
   ]
  },
  {
   "cell_type": "code",
   "execution_count": 1,
   "id": "8769de06-0b9f-4889-a8ed-1dd3f6d2c181",
   "metadata": {},
   "outputs": [],
   "source": [
    "# General Imports\n",
    "import pandas as pd\n",
    "import numpy as np\n",
    "import matplotlib.pyplot as plt\n",
    "import seaborn as sns"
   ]
  },
  {
   "cell_type": "markdown",
   "id": "554857b4-85a8-4b4d-96ad-00afacd88b8c",
   "metadata": {
    "jp-MarkdownHeadingCollapsed": true
   },
   "source": [
    "## Dataset Analyzing"
   ]
  },
  {
   "cell_type": "code",
   "execution_count": 2,
   "id": "aaddd630-f0b6-482f-810d-ef2762977d71",
   "metadata": {},
   "outputs": [
    {
     "data": {
      "text/html": [
       "<div>\n",
       "<style scoped>\n",
       "    .dataframe tbody tr th:only-of-type {\n",
       "        vertical-align: middle;\n",
       "    }\n",
       "\n",
       "    .dataframe tbody tr th {\n",
       "        vertical-align: top;\n",
       "    }\n",
       "\n",
       "    .dataframe thead th {\n",
       "        text-align: right;\n",
       "    }\n",
       "</style>\n",
       "<table border=\"1\" class=\"dataframe\">\n",
       "  <thead>\n",
       "    <tr style=\"text-align: right;\">\n",
       "      <th></th>\n",
       "      <th>ID</th>\n",
       "      <th>Age</th>\n",
       "      <th>Gender</th>\n",
       "      <th>Height</th>\n",
       "      <th>Weight</th>\n",
       "      <th>BMI</th>\n",
       "      <th>Label</th>\n",
       "    </tr>\n",
       "  </thead>\n",
       "  <tbody>\n",
       "    <tr>\n",
       "      <th>0</th>\n",
       "      <td>1</td>\n",
       "      <td>25</td>\n",
       "      <td>Male</td>\n",
       "      <td>175</td>\n",
       "      <td>80</td>\n",
       "      <td>25.3</td>\n",
       "      <td>Normal Weight</td>\n",
       "    </tr>\n",
       "    <tr>\n",
       "      <th>1</th>\n",
       "      <td>2</td>\n",
       "      <td>30</td>\n",
       "      <td>Female</td>\n",
       "      <td>160</td>\n",
       "      <td>60</td>\n",
       "      <td>22.5</td>\n",
       "      <td>Normal Weight</td>\n",
       "    </tr>\n",
       "    <tr>\n",
       "      <th>2</th>\n",
       "      <td>3</td>\n",
       "      <td>35</td>\n",
       "      <td>Male</td>\n",
       "      <td>180</td>\n",
       "      <td>90</td>\n",
       "      <td>27.3</td>\n",
       "      <td>Overweight</td>\n",
       "    </tr>\n",
       "    <tr>\n",
       "      <th>3</th>\n",
       "      <td>4</td>\n",
       "      <td>40</td>\n",
       "      <td>Female</td>\n",
       "      <td>150</td>\n",
       "      <td>50</td>\n",
       "      <td>20.0</td>\n",
       "      <td>Underweight</td>\n",
       "    </tr>\n",
       "    <tr>\n",
       "      <th>4</th>\n",
       "      <td>5</td>\n",
       "      <td>45</td>\n",
       "      <td>Male</td>\n",
       "      <td>190</td>\n",
       "      <td>100</td>\n",
       "      <td>31.2</td>\n",
       "      <td>Obese</td>\n",
       "    </tr>\n",
       "  </tbody>\n",
       "</table>\n",
       "</div>"
      ],
      "text/plain": [
       "   ID  Age  Gender  Height  Weight   BMI          Label\n",
       "0   1   25    Male     175      80  25.3  Normal Weight\n",
       "1   2   30  Female     160      60  22.5  Normal Weight\n",
       "2   3   35    Male     180      90  27.3     Overweight\n",
       "3   4   40  Female     150      50  20.0    Underweight\n",
       "4   5   45    Male     190     100  31.2          Obese"
      ]
     },
     "execution_count": 2,
     "metadata": {},
     "output_type": "execute_result"
    }
   ],
   "source": [
    "# Turning .csv data to Pandas DataFrame\n",
    "df = pd.read_csv(\"../data/obesity-classification.csv\")\n",
    "df.head()"
   ]
  },
  {
   "cell_type": "code",
   "execution_count": 3,
   "id": "9c08e06e-64fb-4f74-8554-da254b413dd0",
   "metadata": {},
   "outputs": [
    {
     "name": "stdout",
     "output_type": "stream",
     "text": [
      "<class 'pandas.core.frame.DataFrame'>\n",
      "RangeIndex: 108 entries, 0 to 107\n",
      "Data columns (total 7 columns):\n",
      " #   Column  Non-Null Count  Dtype  \n",
      "---  ------  --------------  -----  \n",
      " 0   ID      108 non-null    int64  \n",
      " 1   Age     108 non-null    int64  \n",
      " 2   Gender  108 non-null    object \n",
      " 3   Height  108 non-null    int64  \n",
      " 4   Weight  108 non-null    int64  \n",
      " 5   BMI     108 non-null    float64\n",
      " 6   Label   108 non-null    object \n",
      "dtypes: float64(1), int64(4), object(2)\n",
      "memory usage: 6.0+ KB\n"
     ]
    }
   ],
   "source": [
    "df.info()"
   ]
  },
  {
   "cell_type": "code",
   "execution_count": 4,
   "id": "8b670811-3007-464c-8e33-ad9be4f9dcf0",
   "metadata": {},
   "outputs": [
    {
     "data": {
      "text/html": [
       "<div>\n",
       "<style scoped>\n",
       "    .dataframe tbody tr th:only-of-type {\n",
       "        vertical-align: middle;\n",
       "    }\n",
       "\n",
       "    .dataframe tbody tr th {\n",
       "        vertical-align: top;\n",
       "    }\n",
       "\n",
       "    .dataframe thead th {\n",
       "        text-align: right;\n",
       "    }\n",
       "</style>\n",
       "<table border=\"1\" class=\"dataframe\">\n",
       "  <thead>\n",
       "    <tr style=\"text-align: right;\">\n",
       "      <th></th>\n",
       "      <th>ID</th>\n",
       "      <th>Age</th>\n",
       "      <th>Height</th>\n",
       "      <th>Weight</th>\n",
       "      <th>BMI</th>\n",
       "    </tr>\n",
       "  </thead>\n",
       "  <tbody>\n",
       "    <tr>\n",
       "      <th>count</th>\n",
       "      <td>108.000000</td>\n",
       "      <td>108.000000</td>\n",
       "      <td>108.000000</td>\n",
       "      <td>108.000000</td>\n",
       "      <td>108.000000</td>\n",
       "    </tr>\n",
       "    <tr>\n",
       "      <th>mean</th>\n",
       "      <td>56.046296</td>\n",
       "      <td>46.555556</td>\n",
       "      <td>166.574074</td>\n",
       "      <td>59.490741</td>\n",
       "      <td>20.549074</td>\n",
       "    </tr>\n",
       "    <tr>\n",
       "      <th>std</th>\n",
       "      <td>31.917939</td>\n",
       "      <td>24.720620</td>\n",
       "      <td>27.873615</td>\n",
       "      <td>28.856233</td>\n",
       "      <td>7.583818</td>\n",
       "    </tr>\n",
       "    <tr>\n",
       "      <th>min</th>\n",
       "      <td>1.000000</td>\n",
       "      <td>11.000000</td>\n",
       "      <td>120.000000</td>\n",
       "      <td>10.000000</td>\n",
       "      <td>3.900000</td>\n",
       "    </tr>\n",
       "    <tr>\n",
       "      <th>25%</th>\n",
       "      <td>28.750000</td>\n",
       "      <td>27.000000</td>\n",
       "      <td>140.000000</td>\n",
       "      <td>35.000000</td>\n",
       "      <td>16.700000</td>\n",
       "    </tr>\n",
       "    <tr>\n",
       "      <th>50%</th>\n",
       "      <td>56.500000</td>\n",
       "      <td>42.500000</td>\n",
       "      <td>175.000000</td>\n",
       "      <td>55.000000</td>\n",
       "      <td>21.200000</td>\n",
       "    </tr>\n",
       "    <tr>\n",
       "      <th>75%</th>\n",
       "      <td>83.250000</td>\n",
       "      <td>59.250000</td>\n",
       "      <td>190.000000</td>\n",
       "      <td>85.000000</td>\n",
       "      <td>26.100000</td>\n",
       "    </tr>\n",
       "    <tr>\n",
       "      <th>max</th>\n",
       "      <td>110.000000</td>\n",
       "      <td>112.000000</td>\n",
       "      <td>210.000000</td>\n",
       "      <td>120.000000</td>\n",
       "      <td>37.200000</td>\n",
       "    </tr>\n",
       "  </tbody>\n",
       "</table>\n",
       "</div>"
      ],
      "text/plain": [
       "               ID         Age      Height      Weight         BMI\n",
       "count  108.000000  108.000000  108.000000  108.000000  108.000000\n",
       "mean    56.046296   46.555556  166.574074   59.490741   20.549074\n",
       "std     31.917939   24.720620   27.873615   28.856233    7.583818\n",
       "min      1.000000   11.000000  120.000000   10.000000    3.900000\n",
       "25%     28.750000   27.000000  140.000000   35.000000   16.700000\n",
       "50%     56.500000   42.500000  175.000000   55.000000   21.200000\n",
       "75%     83.250000   59.250000  190.000000   85.000000   26.100000\n",
       "max    110.000000  112.000000  210.000000  120.000000   37.200000"
      ]
     },
     "execution_count": 4,
     "metadata": {},
     "output_type": "execute_result"
    }
   ],
   "source": [
    "df.describe()"
   ]
  },
  {
   "cell_type": "code",
   "execution_count": 5,
   "id": "85f362e1-cd8c-4038-be3f-e8c940f2d2b5",
   "metadata": {
    "scrolled": true
   },
   "outputs": [
    {
     "data": {
      "text/plain": [
       "ID          int64\n",
       "Age         int64\n",
       "Gender     object\n",
       "Height      int64\n",
       "Weight      int64\n",
       "BMI       float64\n",
       "Label      object\n",
       "dtype: object"
      ]
     },
     "execution_count": 5,
     "metadata": {},
     "output_type": "execute_result"
    }
   ],
   "source": [
    "df.dtypes"
   ]
  },
  {
   "cell_type": "code",
   "execution_count": 6,
   "id": "8b968f12-632a-47b4-afc5-3ef2b7f2af1c",
   "metadata": {},
   "outputs": [
    {
     "data": {
      "text/html": [
       "<div>\n",
       "<style scoped>\n",
       "    .dataframe tbody tr th:only-of-type {\n",
       "        vertical-align: middle;\n",
       "    }\n",
       "\n",
       "    .dataframe tbody tr th {\n",
       "        vertical-align: top;\n",
       "    }\n",
       "\n",
       "    .dataframe thead th {\n",
       "        text-align: right;\n",
       "    }\n",
       "</style>\n",
       "<table border=\"1\" class=\"dataframe\">\n",
       "  <thead>\n",
       "    <tr style=\"text-align: right;\">\n",
       "      <th></th>\n",
       "      <th>ID</th>\n",
       "      <th>Age</th>\n",
       "      <th>Gender</th>\n",
       "      <th>Height</th>\n",
       "      <th>Weight</th>\n",
       "      <th>BMI</th>\n",
       "      <th>Label</th>\n",
       "    </tr>\n",
       "  </thead>\n",
       "  <tbody>\n",
       "    <tr>\n",
       "      <th>0</th>\n",
       "      <td>1</td>\n",
       "      <td>25</td>\n",
       "      <td>Male</td>\n",
       "      <td>175</td>\n",
       "      <td>80</td>\n",
       "      <td>25.3</td>\n",
       "      <td>Normal Weight</td>\n",
       "    </tr>\n",
       "    <tr>\n",
       "      <th>1</th>\n",
       "      <td>2</td>\n",
       "      <td>30</td>\n",
       "      <td>Female</td>\n",
       "      <td>160</td>\n",
       "      <td>60</td>\n",
       "      <td>22.5</td>\n",
       "      <td>Normal Weight</td>\n",
       "    </tr>\n",
       "    <tr>\n",
       "      <th>2</th>\n",
       "      <td>3</td>\n",
       "      <td>35</td>\n",
       "      <td>Male</td>\n",
       "      <td>180</td>\n",
       "      <td>90</td>\n",
       "      <td>27.3</td>\n",
       "      <td>Overweight</td>\n",
       "    </tr>\n",
       "    <tr>\n",
       "      <th>3</th>\n",
       "      <td>4</td>\n",
       "      <td>40</td>\n",
       "      <td>Female</td>\n",
       "      <td>150</td>\n",
       "      <td>50</td>\n",
       "      <td>20.0</td>\n",
       "      <td>Underweight</td>\n",
       "    </tr>\n",
       "    <tr>\n",
       "      <th>4</th>\n",
       "      <td>5</td>\n",
       "      <td>45</td>\n",
       "      <td>Male</td>\n",
       "      <td>190</td>\n",
       "      <td>100</td>\n",
       "      <td>31.2</td>\n",
       "      <td>Obese</td>\n",
       "    </tr>\n",
       "  </tbody>\n",
       "</table>\n",
       "</div>"
      ],
      "text/plain": [
       "   ID  Age  Gender  Height  Weight   BMI          Label\n",
       "0   1   25    Male     175      80  25.3  Normal Weight\n",
       "1   2   30  Female     160      60  22.5  Normal Weight\n",
       "2   3   35    Male     180      90  27.3     Overweight\n",
       "3   4   40  Female     150      50  20.0    Underweight\n",
       "4   5   45    Male     190     100  31.2          Obese"
      ]
     },
     "execution_count": 6,
     "metadata": {},
     "output_type": "execute_result"
    }
   ],
   "source": [
    "df.head()"
   ]
  },
  {
   "cell_type": "code",
   "execution_count": 7,
   "id": "86d141cc-8e98-4467-be14-11e66d443cf6",
   "metadata": {},
   "outputs": [
    {
     "data": {
      "text/plain": [
       "(120, 210)"
      ]
     },
     "execution_count": 7,
     "metadata": {},
     "output_type": "execute_result"
    }
   ],
   "source": [
    "# Min and Max Height\n",
    "min(df.Height), max(df.Height)"
   ]
  },
  {
   "cell_type": "code",
   "execution_count": 8,
   "id": "7663d3a9-c385-4ff0-86b0-b62c0d89b1b9",
   "metadata": {},
   "outputs": [
    {
     "data": {
      "text/plain": [
       "(10, 120)"
      ]
     },
     "execution_count": 8,
     "metadata": {},
     "output_type": "execute_result"
    }
   ],
   "source": [
    "# Min and Max Weight\n",
    "min(df.Weight), max(df.Weight)"
   ]
  },
  {
   "cell_type": "code",
   "execution_count": 9,
   "id": "e764c36e-0a2a-4d9d-98e0-9ac0636a2837",
   "metadata": {},
   "outputs": [
    {
     "data": {
      "text/plain": [
       "(11, 112)"
      ]
     },
     "execution_count": 9,
     "metadata": {},
     "output_type": "execute_result"
    }
   ],
   "source": [
    "# Min and Max Age\n",
    "min(df.Age), max(df.Age)"
   ]
  },
  {
   "cell_type": "code",
   "execution_count": 10,
   "id": "0d78b90d-3100-44d9-83d0-f50ee11abbaf",
   "metadata": {},
   "outputs": [
    {
     "data": {
      "text/plain": [
       "(3.9, 37.2)"
      ]
     },
     "execution_count": 10,
     "metadata": {},
     "output_type": "execute_result"
    }
   ],
   "source": [
    "# Min and Max BMI\n",
    "min(df.BMI), max(df.BMI)"
   ]
  },
  {
   "cell_type": "markdown",
   "id": "6e111347-dcee-43e6-a35f-ce829b8470d5",
   "metadata": {
    "jp-MarkdownHeadingCollapsed": true
   },
   "source": [
    "### Descriptive Statistics"
   ]
  },
  {
   "cell_type": "code",
   "execution_count": 11,
   "id": "191d8b3c-6571-4d8c-90e2-d2201eacbe61",
   "metadata": {},
   "outputs": [
    {
     "data": {
      "text/html": [
       "<div>\n",
       "<style scoped>\n",
       "    .dataframe tbody tr th:only-of-type {\n",
       "        vertical-align: middle;\n",
       "    }\n",
       "\n",
       "    .dataframe tbody tr th {\n",
       "        vertical-align: top;\n",
       "    }\n",
       "\n",
       "    .dataframe thead th {\n",
       "        text-align: right;\n",
       "    }\n",
       "</style>\n",
       "<table border=\"1\" class=\"dataframe\">\n",
       "  <thead>\n",
       "    <tr style=\"text-align: right;\">\n",
       "      <th></th>\n",
       "      <th>ID</th>\n",
       "      <th>Age</th>\n",
       "      <th>Gender</th>\n",
       "      <th>Height</th>\n",
       "      <th>Weight</th>\n",
       "      <th>BMI</th>\n",
       "      <th>Label</th>\n",
       "    </tr>\n",
       "  </thead>\n",
       "  <tbody>\n",
       "    <tr>\n",
       "      <th>0</th>\n",
       "      <td>1</td>\n",
       "      <td>25</td>\n",
       "      <td>Male</td>\n",
       "      <td>175</td>\n",
       "      <td>80</td>\n",
       "      <td>25.3</td>\n",
       "      <td>Normal Weight</td>\n",
       "    </tr>\n",
       "    <tr>\n",
       "      <th>1</th>\n",
       "      <td>2</td>\n",
       "      <td>30</td>\n",
       "      <td>Female</td>\n",
       "      <td>160</td>\n",
       "      <td>60</td>\n",
       "      <td>22.5</td>\n",
       "      <td>Normal Weight</td>\n",
       "    </tr>\n",
       "    <tr>\n",
       "      <th>2</th>\n",
       "      <td>3</td>\n",
       "      <td>35</td>\n",
       "      <td>Male</td>\n",
       "      <td>180</td>\n",
       "      <td>90</td>\n",
       "      <td>27.3</td>\n",
       "      <td>Overweight</td>\n",
       "    </tr>\n",
       "    <tr>\n",
       "      <th>3</th>\n",
       "      <td>4</td>\n",
       "      <td>40</td>\n",
       "      <td>Female</td>\n",
       "      <td>150</td>\n",
       "      <td>50</td>\n",
       "      <td>20.0</td>\n",
       "      <td>Underweight</td>\n",
       "    </tr>\n",
       "    <tr>\n",
       "      <th>4</th>\n",
       "      <td>5</td>\n",
       "      <td>45</td>\n",
       "      <td>Male</td>\n",
       "      <td>190</td>\n",
       "      <td>100</td>\n",
       "      <td>31.2</td>\n",
       "      <td>Obese</td>\n",
       "    </tr>\n",
       "  </tbody>\n",
       "</table>\n",
       "</div>"
      ],
      "text/plain": [
       "   ID  Age  Gender  Height  Weight   BMI          Label\n",
       "0   1   25    Male     175      80  25.3  Normal Weight\n",
       "1   2   30  Female     160      60  22.5  Normal Weight\n",
       "2   3   35    Male     180      90  27.3     Overweight\n",
       "3   4   40  Female     150      50  20.0    Underweight\n",
       "4   5   45    Male     190     100  31.2          Obese"
      ]
     },
     "execution_count": 11,
     "metadata": {},
     "output_type": "execute_result"
    }
   ],
   "source": [
    "df.head()"
   ]
  },
  {
   "cell_type": "code",
   "execution_count": 12,
   "id": "31ec89f5-9d97-4265-95ea-3b0c6967d804",
   "metadata": {},
   "outputs": [
    {
     "data": {
      "text/html": [
       "<div>\n",
       "<style scoped>\n",
       "    .dataframe tbody tr th:only-of-type {\n",
       "        vertical-align: middle;\n",
       "    }\n",
       "\n",
       "    .dataframe tbody tr th {\n",
       "        vertical-align: top;\n",
       "    }\n",
       "\n",
       "    .dataframe thead th {\n",
       "        text-align: right;\n",
       "    }\n",
       "</style>\n",
       "<table border=\"1\" class=\"dataframe\">\n",
       "  <thead>\n",
       "    <tr style=\"text-align: right;\">\n",
       "      <th></th>\n",
       "      <th>ID</th>\n",
       "      <th>Age</th>\n",
       "      <th>Height</th>\n",
       "      <th>Weight</th>\n",
       "      <th>BMI</th>\n",
       "    </tr>\n",
       "  </thead>\n",
       "  <tbody>\n",
       "    <tr>\n",
       "      <th>count</th>\n",
       "      <td>108.000000</td>\n",
       "      <td>108.000000</td>\n",
       "      <td>108.000000</td>\n",
       "      <td>108.000000</td>\n",
       "      <td>108.000000</td>\n",
       "    </tr>\n",
       "    <tr>\n",
       "      <th>mean</th>\n",
       "      <td>56.046296</td>\n",
       "      <td>46.555556</td>\n",
       "      <td>166.574074</td>\n",
       "      <td>59.490741</td>\n",
       "      <td>20.549074</td>\n",
       "    </tr>\n",
       "    <tr>\n",
       "      <th>std</th>\n",
       "      <td>31.917939</td>\n",
       "      <td>24.720620</td>\n",
       "      <td>27.873615</td>\n",
       "      <td>28.856233</td>\n",
       "      <td>7.583818</td>\n",
       "    </tr>\n",
       "    <tr>\n",
       "      <th>min</th>\n",
       "      <td>1.000000</td>\n",
       "      <td>11.000000</td>\n",
       "      <td>120.000000</td>\n",
       "      <td>10.000000</td>\n",
       "      <td>3.900000</td>\n",
       "    </tr>\n",
       "    <tr>\n",
       "      <th>25%</th>\n",
       "      <td>28.750000</td>\n",
       "      <td>27.000000</td>\n",
       "      <td>140.000000</td>\n",
       "      <td>35.000000</td>\n",
       "      <td>16.700000</td>\n",
       "    </tr>\n",
       "    <tr>\n",
       "      <th>50%</th>\n",
       "      <td>56.500000</td>\n",
       "      <td>42.500000</td>\n",
       "      <td>175.000000</td>\n",
       "      <td>55.000000</td>\n",
       "      <td>21.200000</td>\n",
       "    </tr>\n",
       "    <tr>\n",
       "      <th>75%</th>\n",
       "      <td>83.250000</td>\n",
       "      <td>59.250000</td>\n",
       "      <td>190.000000</td>\n",
       "      <td>85.000000</td>\n",
       "      <td>26.100000</td>\n",
       "    </tr>\n",
       "    <tr>\n",
       "      <th>max</th>\n",
       "      <td>110.000000</td>\n",
       "      <td>112.000000</td>\n",
       "      <td>210.000000</td>\n",
       "      <td>120.000000</td>\n",
       "      <td>37.200000</td>\n",
       "    </tr>\n",
       "  </tbody>\n",
       "</table>\n",
       "</div>"
      ],
      "text/plain": [
       "               ID         Age      Height      Weight         BMI\n",
       "count  108.000000  108.000000  108.000000  108.000000  108.000000\n",
       "mean    56.046296   46.555556  166.574074   59.490741   20.549074\n",
       "std     31.917939   24.720620   27.873615   28.856233    7.583818\n",
       "min      1.000000   11.000000  120.000000   10.000000    3.900000\n",
       "25%     28.750000   27.000000  140.000000   35.000000   16.700000\n",
       "50%     56.500000   42.500000  175.000000   55.000000   21.200000\n",
       "75%     83.250000   59.250000  190.000000   85.000000   26.100000\n",
       "max    110.000000  112.000000  210.000000  120.000000   37.200000"
      ]
     },
     "execution_count": 12,
     "metadata": {},
     "output_type": "execute_result"
    }
   ],
   "source": [
    "# Getting descriptive statistics for numerical columns\n",
    "df.describe()"
   ]
  },
  {
   "cell_type": "code",
   "execution_count": 13,
   "id": "7ebfb932-7733-4415-86ab-6aa99bfed247",
   "metadata": {},
   "outputs": [
    {
     "data": {
      "text/plain": [
       "ID        0\n",
       "Age       0\n",
       "Gender    0\n",
       "Height    0\n",
       "Weight    0\n",
       "BMI       0\n",
       "Label     0\n",
       "dtype: int64"
      ]
     },
     "execution_count": 13,
     "metadata": {},
     "output_type": "execute_result"
    }
   ],
   "source": [
    "# Checking missing values\n",
    "df.isnull().sum()"
   ]
  },
  {
   "cell_type": "markdown",
   "id": "6f423dc4-7b61-487b-aa14-72399da353dc",
   "metadata": {
    "jp-MarkdownHeadingCollapsed": true
   },
   "source": [
    "### Categorical Data Distribution"
   ]
  },
  {
   "cell_type": "code",
   "execution_count": 14,
   "id": "b58920c7-2fd2-4b57-8ca7-7f47f0bd13e1",
   "metadata": {},
   "outputs": [
    {
     "data": {
      "text/html": [
       "<div>\n",
       "<style scoped>\n",
       "    .dataframe tbody tr th:only-of-type {\n",
       "        vertical-align: middle;\n",
       "    }\n",
       "\n",
       "    .dataframe tbody tr th {\n",
       "        vertical-align: top;\n",
       "    }\n",
       "\n",
       "    .dataframe thead th {\n",
       "        text-align: right;\n",
       "    }\n",
       "</style>\n",
       "<table border=\"1\" class=\"dataframe\">\n",
       "  <thead>\n",
       "    <tr style=\"text-align: right;\">\n",
       "      <th></th>\n",
       "      <th>ID</th>\n",
       "      <th>Age</th>\n",
       "      <th>Gender</th>\n",
       "      <th>Height</th>\n",
       "      <th>Weight</th>\n",
       "      <th>BMI</th>\n",
       "      <th>Label</th>\n",
       "    </tr>\n",
       "  </thead>\n",
       "  <tbody>\n",
       "    <tr>\n",
       "      <th>0</th>\n",
       "      <td>1</td>\n",
       "      <td>25</td>\n",
       "      <td>Male</td>\n",
       "      <td>175</td>\n",
       "      <td>80</td>\n",
       "      <td>25.3</td>\n",
       "      <td>Normal Weight</td>\n",
       "    </tr>\n",
       "    <tr>\n",
       "      <th>1</th>\n",
       "      <td>2</td>\n",
       "      <td>30</td>\n",
       "      <td>Female</td>\n",
       "      <td>160</td>\n",
       "      <td>60</td>\n",
       "      <td>22.5</td>\n",
       "      <td>Normal Weight</td>\n",
       "    </tr>\n",
       "    <tr>\n",
       "      <th>2</th>\n",
       "      <td>3</td>\n",
       "      <td>35</td>\n",
       "      <td>Male</td>\n",
       "      <td>180</td>\n",
       "      <td>90</td>\n",
       "      <td>27.3</td>\n",
       "      <td>Overweight</td>\n",
       "    </tr>\n",
       "    <tr>\n",
       "      <th>3</th>\n",
       "      <td>4</td>\n",
       "      <td>40</td>\n",
       "      <td>Female</td>\n",
       "      <td>150</td>\n",
       "      <td>50</td>\n",
       "      <td>20.0</td>\n",
       "      <td>Underweight</td>\n",
       "    </tr>\n",
       "    <tr>\n",
       "      <th>4</th>\n",
       "      <td>5</td>\n",
       "      <td>45</td>\n",
       "      <td>Male</td>\n",
       "      <td>190</td>\n",
       "      <td>100</td>\n",
       "      <td>31.2</td>\n",
       "      <td>Obese</td>\n",
       "    </tr>\n",
       "  </tbody>\n",
       "</table>\n",
       "</div>"
      ],
      "text/plain": [
       "   ID  Age  Gender  Height  Weight   BMI          Label\n",
       "0   1   25    Male     175      80  25.3  Normal Weight\n",
       "1   2   30  Female     160      60  22.5  Normal Weight\n",
       "2   3   35    Male     180      90  27.3     Overweight\n",
       "3   4   40  Female     150      50  20.0    Underweight\n",
       "4   5   45    Male     190     100  31.2          Obese"
      ]
     },
     "execution_count": 14,
     "metadata": {},
     "output_type": "execute_result"
    }
   ],
   "source": [
    "df.head()"
   ]
  },
  {
   "cell_type": "code",
   "execution_count": 15,
   "id": "db148952-7e4c-4434-87d0-356488ec09e3",
   "metadata": {},
   "outputs": [
    {
     "data": {
      "text/plain": [
       "Gender\n",
       "Male      56\n",
       "Female    52\n",
       "Name: count, dtype: int64"
      ]
     },
     "execution_count": 15,
     "metadata": {},
     "output_type": "execute_result"
    }
   ],
   "source": [
    "gender_counts = df[\"Gender\"].value_counts()\n",
    "gender_counts"
   ]
  },
  {
   "cell_type": "code",
   "execution_count": 16,
   "id": "36fada1a-bcbb-4656-97dd-596024cb8d90",
   "metadata": {},
   "outputs": [
    {
     "data": {
      "text/plain": [
       "Label\n",
       "Underweight      47\n",
       "Normal Weight    29\n",
       "Overweight       20\n",
       "Obese            12\n",
       "Name: count, dtype: int64"
      ]
     },
     "execution_count": 16,
     "metadata": {},
     "output_type": "execute_result"
    }
   ],
   "source": [
    "label_counts = df[\"Label\"].value_counts()\n",
    "label_counts"
   ]
  },
  {
   "cell_type": "markdown",
   "id": "87f6a261-4f8c-425b-8833-a87bee761827",
   "metadata": {
    "jp-MarkdownHeadingCollapsed": true
   },
   "source": [
    "#### Crosstab Correlation"
   ]
  },
  {
   "cell_type": "code",
   "execution_count": 17,
   "id": "cbad26d4-bbce-4d1b-9e5b-f6ecba5a56e2",
   "metadata": {},
   "outputs": [
    {
     "data": {
      "text/html": [
       "<div>\n",
       "<style scoped>\n",
       "    .dataframe tbody tr th:only-of-type {\n",
       "        vertical-align: middle;\n",
       "    }\n",
       "\n",
       "    .dataframe tbody tr th {\n",
       "        vertical-align: top;\n",
       "    }\n",
       "\n",
       "    .dataframe thead th {\n",
       "        text-align: right;\n",
       "    }\n",
       "</style>\n",
       "<table border=\"1\" class=\"dataframe\">\n",
       "  <thead>\n",
       "    <tr style=\"text-align: right;\">\n",
       "      <th>Gender</th>\n",
       "      <th>Female</th>\n",
       "      <th>Male</th>\n",
       "    </tr>\n",
       "    <tr>\n",
       "      <th>Label</th>\n",
       "      <th></th>\n",
       "      <th></th>\n",
       "    </tr>\n",
       "  </thead>\n",
       "  <tbody>\n",
       "    <tr>\n",
       "      <th>Normal Weight</th>\n",
       "      <td>12</td>\n",
       "      <td>17</td>\n",
       "    </tr>\n",
       "    <tr>\n",
       "      <th>Obese</th>\n",
       "      <td>0</td>\n",
       "      <td>12</td>\n",
       "    </tr>\n",
       "    <tr>\n",
       "      <th>Overweight</th>\n",
       "      <td>8</td>\n",
       "      <td>12</td>\n",
       "    </tr>\n",
       "    <tr>\n",
       "      <th>Underweight</th>\n",
       "      <td>32</td>\n",
       "      <td>15</td>\n",
       "    </tr>\n",
       "  </tbody>\n",
       "</table>\n",
       "</div>"
      ],
      "text/plain": [
       "Gender         Female  Male\n",
       "Label                      \n",
       "Normal Weight      12    17\n",
       "Obese               0    12\n",
       "Overweight          8    12\n",
       "Underweight        32    15"
      ]
     },
     "execution_count": 17,
     "metadata": {},
     "output_type": "execute_result"
    }
   ],
   "source": [
    "# Comparing target columns with gender column\n",
    "pd.crosstab(df[\"Label\"], df[\"Gender\"])"
   ]
  },
  {
   "cell_type": "code",
   "execution_count": 18,
   "id": "3d79ac23-3a90-4acc-bbb7-1dfecaf4e19a",
   "metadata": {},
   "outputs": [
    {
     "data": {
      "image/png": "[encoded data removed]",
      "text/plain": [
       "<Figure size 500x300 with 1 Axes>"
      ]
     },
     "metadata": {},
     "output_type": "display_data"
    }
   ],
   "source": [
    "# Creating a plot of crosstab\n",
    "pd.crosstab(df[\"Label\"], df[\"Gender\"]).plot(kind=\"bar\", figsize=(5, 3), color=[\"salmon\", \"lightblue\"]);"
   ]
  },
  {
   "cell_type": "markdown",
   "id": "bd4948ad-97a3-4242-bf1f-52fadcf45fc9",
   "metadata": {},
   "source": [
    "## Visualization"
   ]
  },
  {
   "cell_type": "markdown",
   "id": "69053c24-3dce-4eb0-bd20-fa720f25d6b2",
   "metadata": {
    "jp-MarkdownHeadingCollapsed": true
   },
   "source": [
    "### Distribution Plots"
   ]
  },
  {
   "cell_type": "code",
   "execution_count": 19,
   "id": "e924dba5-4083-4988-b7be-8ab64981ee68",
   "metadata": {},
   "outputs": [
    {
     "data": {
      "image/png": "[encoded data removed]",
      "text/plain": [
       "<Figure size 1500x1000 with 4 Axes>"
      ]
     },
     "metadata": {},
     "output_type": "display_data"
    }
   ],
   "source": [
    "# Setting up style for Seaborn\n",
    "sns.set(style=\"whitegrid\")\n",
    "\n",
    "# Creating a figure for subplots\n",
    "fig, axs = plt.subplots(2, 2, figsize=(15, 10))  # 2 rows, 2 columns\n",
    "\n",
    "# Plotting the Gender distribution\n",
    "sns.countplot(x='Gender', data=df, ax=axs[0, 0])\n",
    "axs[0, 0].set_title('Gender Distribution')\n",
    "axs[0, 0].set_xlabel('Gender')\n",
    "axs[0, 0].set_ylabel('Count')\n",
    "\n",
    "# Plotting the Label distribution\n",
    "sns.countplot(x='Label', data=df, ax=axs[0, 1])\n",
    "axs[0, 1].set_title('Obesity Classification Distribution')\n",
    "axs[0, 1].set_xlabel('Label')\n",
    "axs[0, 1].set_ylabel('Count')\n",
    "\n",
    "# Plotting the Age distribution\n",
    "sns.histplot(df['Age'], bins=10, kde=True, ax=axs[1, 0])\n",
    "axs[1, 0].set_title('Age Distribution')\n",
    "axs[1, 0].set_xlabel('Age')\n",
    "axs[1, 0].set_ylabel('Frequency')\n",
    "\n",
    "# Plotting the BMI distribution\n",
    "sns.histplot(df['BMI'], bins=10, kde=True, ax=axs[1, 1])\n",
    "axs[1, 1].set_title('BMI Distribution')\n",
    "axs[1, 1].set_xlabel('BMI')\n",
    "axs[1, 1].set_ylabel('Frequency')\n",
    "\n",
    "# Adjusting the layout\n",
    "plt.tight_layout()\n",
    "\n",
    "# Saving the figure to /images folder\n",
    "plt.savefig(\"../images/distribution_plot.png\")\n",
    "\n",
    "# Showing the plot\n",
    "plt.show()"
   ]
  },
  {
   "cell_type": "markdown",
   "id": "717ac9ad-48ef-4f27-8b39-66ebe90321d9",
   "metadata": {},
   "source": [
    "### Age vs Height for obesity"
   ]
  },
  {
   "cell_type": "code",
   "execution_count": 20,
   "id": "aa6c1cb4-c11d-4341-a3b0-6ce4701122f4",
   "metadata": {},
   "outputs": [
    {
     "data": {
      "text/html": [
       "<div>\n",
       "<style scoped>\n",
       "    .dataframe tbody tr th:only-of-type {\n",
       "        vertical-align: middle;\n",
       "    }\n",
       "\n",
       "    .dataframe tbody tr th {\n",
       "        vertical-align: top;\n",
       "    }\n",
       "\n",
       "    .dataframe thead th {\n",
       "        text-align: right;\n",
       "    }\n",
       "</style>\n",
       "<table border=\"1\" class=\"dataframe\">\n",
       "  <thead>\n",
       "    <tr style=\"text-align: right;\">\n",
       "      <th></th>\n",
       "      <th>ID</th>\n",
       "      <th>Age</th>\n",
       "      <th>Gender</th>\n",
       "      <th>Height</th>\n",
       "      <th>Weight</th>\n",
       "      <th>BMI</th>\n",
       "      <th>Label</th>\n",
       "    </tr>\n",
       "  </thead>\n",
       "  <tbody>\n",
       "    <tr>\n",
       "      <th>0</th>\n",
       "      <td>1</td>\n",
       "      <td>25</td>\n",
       "      <td>Male</td>\n",
       "      <td>175</td>\n",
       "      <td>80</td>\n",
       "      <td>25.3</td>\n",
       "      <td>Normal Weight</td>\n",
       "    </tr>\n",
       "    <tr>\n",
       "      <th>1</th>\n",
       "      <td>2</td>\n",
       "      <td>30</td>\n",
       "      <td>Female</td>\n",
       "      <td>160</td>\n",
       "      <td>60</td>\n",
       "      <td>22.5</td>\n",
       "      <td>Normal Weight</td>\n",
       "    </tr>\n",
       "    <tr>\n",
       "      <th>2</th>\n",
       "      <td>3</td>\n",
       "      <td>35</td>\n",
       "      <td>Male</td>\n",
       "      <td>180</td>\n",
       "      <td>90</td>\n",
       "      <td>27.3</td>\n",
       "      <td>Overweight</td>\n",
       "    </tr>\n",
       "    <tr>\n",
       "      <th>3</th>\n",
       "      <td>4</td>\n",
       "      <td>40</td>\n",
       "      <td>Female</td>\n",
       "      <td>150</td>\n",
       "      <td>50</td>\n",
       "      <td>20.0</td>\n",
       "      <td>Underweight</td>\n",
       "    </tr>\n",
       "    <tr>\n",
       "      <th>4</th>\n",
       "      <td>5</td>\n",
       "      <td>45</td>\n",
       "      <td>Male</td>\n",
       "      <td>190</td>\n",
       "      <td>100</td>\n",
       "      <td>31.2</td>\n",
       "      <td>Obese</td>\n",
       "    </tr>\n",
       "  </tbody>\n",
       "</table>\n",
       "</div>"
      ],
      "text/plain": [
       "   ID  Age  Gender  Height  Weight   BMI          Label\n",
       "0   1   25    Male     175      80  25.3  Normal Weight\n",
       "1   2   30  Female     160      60  22.5  Normal Weight\n",
       "2   3   35    Male     180      90  27.3     Overweight\n",
       "3   4   40  Female     150      50  20.0    Underweight\n",
       "4   5   45    Male     190     100  31.2          Obese"
      ]
     },
     "execution_count": 20,
     "metadata": {},
     "output_type": "execute_result"
    }
   ],
   "source": [
    "df.head()"
   ]
  },
  {
   "cell_type": "code",
   "execution_count": 21,
   "id": "4644a200-08b1-4c98-9584-d5e85fb5d3a0",
   "metadata": {},
   "outputs": [
    {
     "data": {
      "image/png": "[encoded data removed]",
      "text/plain": [
       "<Figure size 800x500 with 1 Axes>"
      ]
     },
     "metadata": {},
     "output_type": "display_data"
    }
   ],
   "source": [
    "# Creating figure\n",
    "plt.figure(figsize=(8, 5))\n",
    "\n",
    "# Scatter for obese\n",
    "plt.scatter(df.Age[df.Label == \"Obese\"],\n",
    "            df.Height[df.Label == \"Obese\"],\n",
    "            c=\"salmon\")\n",
    "\n",
    "# Scatter for normal weight\n",
    "plt.scatter(df.Age[df.Label == \"Normal Weight\"],\n",
    "            df.Height[df.Label == \"Normal Weight\"],\n",
    "            c=\"lightblue\")\n",
    "\n",
    "# Adding helpful information\n",
    "plt.title(\"Obesity in fuction of Age and Height\")\n",
    "plt.xlabel(\"Age\")\n",
    "plt.ylabel(\"Height\")\n",
    "plt.legend([\"Obese\", \"Normal Weight\"]);"
   ]
  },
  {
   "cell_type": "markdown",
   "id": "43bb0364-bde0-4516-b33a-24800c62098e",
   "metadata": {},
   "source": [
    "### Correlation Matrix"
   ]
  },
  {
   "cell_type": "code",
   "execution_count": 22,
   "id": "a1079b33-8ca3-4474-b3e8-1ec8fc18792c",
   "metadata": {},
   "outputs": [
    {
     "data": {
      "text/html": [
       "<div>\n",
       "<style scoped>\n",
       "    .dataframe tbody tr th:only-of-type {\n",
       "        vertical-align: middle;\n",
       "    }\n",
       "\n",
       "    .dataframe tbody tr th {\n",
       "        vertical-align: top;\n",
       "    }\n",
       "\n",
       "    .dataframe thead th {\n",
       "        text-align: right;\n",
       "    }\n",
       "</style>\n",
       "<table border=\"1\" class=\"dataframe\">\n",
       "  <thead>\n",
       "    <tr style=\"text-align: right;\">\n",
       "      <th></th>\n",
       "      <th>ID</th>\n",
       "      <th>Age</th>\n",
       "      <th>Height</th>\n",
       "      <th>Weight</th>\n",
       "      <th>BMI</th>\n",
       "    </tr>\n",
       "  </thead>\n",
       "  <tbody>\n",
       "    <tr>\n",
       "      <th>ID</th>\n",
       "      <td>1.000000</td>\n",
       "      <td>-0.298257</td>\n",
       "      <td>-0.008224</td>\n",
       "      <td>-0.572625</td>\n",
       "      <td>-0.615235</td>\n",
       "    </tr>\n",
       "    <tr>\n",
       "      <th>Age</th>\n",
       "      <td>-0.298257</td>\n",
       "      <td>1.000000</td>\n",
       "      <td>-0.076896</td>\n",
       "      <td>0.465106</td>\n",
       "      <td>0.474185</td>\n",
       "    </tr>\n",
       "    <tr>\n",
       "      <th>Height</th>\n",
       "      <td>-0.008224</td>\n",
       "      <td>-0.076896</td>\n",
       "      <td>1.000000</td>\n",
       "      <td>0.428890</td>\n",
       "      <td>0.354340</td>\n",
       "    </tr>\n",
       "    <tr>\n",
       "      <th>Weight</th>\n",
       "      <td>-0.572625</td>\n",
       "      <td>0.465106</td>\n",
       "      <td>0.428890</td>\n",
       "      <td>1.000000</td>\n",
       "      <td>0.972829</td>\n",
       "    </tr>\n",
       "    <tr>\n",
       "      <th>BMI</th>\n",
       "      <td>-0.615235</td>\n",
       "      <td>0.474185</td>\n",
       "      <td>0.354340</td>\n",
       "      <td>0.972829</td>\n",
       "      <td>1.000000</td>\n",
       "    </tr>\n",
       "  </tbody>\n",
       "</table>\n",
       "</div>"
      ],
      "text/plain": [
       "              ID       Age    Height    Weight       BMI\n",
       "ID      1.000000 -0.298257 -0.008224 -0.572625 -0.615235\n",
       "Age    -0.298257  1.000000 -0.076896  0.465106  0.474185\n",
       "Height -0.008224 -0.076896  1.000000  0.428890  0.354340\n",
       "Weight -0.572625  0.465106  0.428890  1.000000  0.972829\n",
       "BMI    -0.615235  0.474185  0.354340  0.972829  1.000000"
      ]
     },
     "execution_count": 22,
     "metadata": {},
     "output_type": "execute_result"
    }
   ],
   "source": [
    "numeric_df = df.select_dtypes(include='number')\n",
    "corr_matrix = numeric_df.corr()\n",
    "corr_matrix"
   ]
  },
  {
   "cell_type": "code",
   "execution_count": 23,
   "id": "0cba1844-5387-4b8c-b700-706874fbba2f",
   "metadata": {},
   "outputs": [
    {
     "data": {
      "image/png": "[encoded data removed]",
      "text/plain": [
       "<Figure size 800x500 with 2 Axes>"
      ]
     },
     "metadata": {},
     "output_type": "display_data"
    }
   ],
   "source": [
    "fig, ax = plt.subplots(figsize=(8, 5))\n",
    "ax = sns.heatmap(corr_matrix, annot=True, linewidths=0.5, fmt=\".2f\", cmap=\"YlGnBu\");"
   ]
  },
  {
   "cell_type": "markdown",
   "id": "273582f9-7440-47a0-9ed7-21d6220e5c82",
   "metadata": {},
   "source": [
    "## Getting the Data Ready"
   ]
  },
  {
   "cell_type": "markdown",
   "id": "3bd430af-bd9a-457b-9fd8-c7cb58bd818f",
   "metadata": {},
   "source": [
    "In this section I will try to make the data ready to feed an algorithm. First approach will be to seperate data into `X` and `y` labels.\n",
    "\n",
    "We need to get rid of `ID` and `Label` columns for `X`.\n",
    "We need `Label` column to create `y`.\n",
    "\n",
    "Then, I will look at `get_dummies()` to make sure my all data is numerical..."
   ]
  },
  {
   "cell_type": "markdown",
   "id": "11996a12-64d6-4a40-80ea-dce412e19b2b",
   "metadata": {},
   "source": [
    "**Creating X and y**"
   ]
  },
  {
   "cell_type": "code",
   "execution_count": 24,
   "id": "c4893d2c-123e-47d7-93bb-26fdb3b4db5c",
   "metadata": {},
   "outputs": [
    {
     "data": {
      "text/html": [
       "<div>\n",
       "<style scoped>\n",
       "    .dataframe tbody tr th:only-of-type {\n",
       "        vertical-align: middle;\n",
       "    }\n",
       "\n",
       "    .dataframe tbody tr th {\n",
       "        vertical-align: top;\n",
       "    }\n",
       "\n",
       "    .dataframe thead th {\n",
       "        text-align: right;\n",
       "    }\n",
       "</style>\n",
       "<table border=\"1\" class=\"dataframe\">\n",
       "  <thead>\n",
       "    <tr style=\"text-align: right;\">\n",
       "      <th></th>\n",
       "      <th>ID</th>\n",
       "      <th>Age</th>\n",
       "      <th>Gender</th>\n",
       "      <th>Height</th>\n",
       "      <th>Weight</th>\n",
       "      <th>BMI</th>\n",
       "      <th>Label</th>\n",
       "    </tr>\n",
       "  </thead>\n",
       "  <tbody>\n",
       "    <tr>\n",
       "      <th>0</th>\n",
       "      <td>1</td>\n",
       "      <td>25</td>\n",
       "      <td>Male</td>\n",
       "      <td>175</td>\n",
       "      <td>80</td>\n",
       "      <td>25.3</td>\n",
       "      <td>Normal Weight</td>\n",
       "    </tr>\n",
       "    <tr>\n",
       "      <th>1</th>\n",
       "      <td>2</td>\n",
       "      <td>30</td>\n",
       "      <td>Female</td>\n",
       "      <td>160</td>\n",
       "      <td>60</td>\n",
       "      <td>22.5</td>\n",
       "      <td>Normal Weight</td>\n",
       "    </tr>\n",
       "    <tr>\n",
       "      <th>2</th>\n",
       "      <td>3</td>\n",
       "      <td>35</td>\n",
       "      <td>Male</td>\n",
       "      <td>180</td>\n",
       "      <td>90</td>\n",
       "      <td>27.3</td>\n",
       "      <td>Overweight</td>\n",
       "    </tr>\n",
       "    <tr>\n",
       "      <th>3</th>\n",
       "      <td>4</td>\n",
       "      <td>40</td>\n",
       "      <td>Female</td>\n",
       "      <td>150</td>\n",
       "      <td>50</td>\n",
       "      <td>20.0</td>\n",
       "      <td>Underweight</td>\n",
       "    </tr>\n",
       "    <tr>\n",
       "      <th>4</th>\n",
       "      <td>5</td>\n",
       "      <td>45</td>\n",
       "      <td>Male</td>\n",
       "      <td>190</td>\n",
       "      <td>100</td>\n",
       "      <td>31.2</td>\n",
       "      <td>Obese</td>\n",
       "    </tr>\n",
       "  </tbody>\n",
       "</table>\n",
       "</div>"
      ],
      "text/plain": [
       "   ID  Age  Gender  Height  Weight   BMI          Label\n",
       "0   1   25    Male     175      80  25.3  Normal Weight\n",
       "1   2   30  Female     160      60  22.5  Normal Weight\n",
       "2   3   35    Male     180      90  27.3     Overweight\n",
       "3   4   40  Female     150      50  20.0    Underweight\n",
       "4   5   45    Male     190     100  31.2          Obese"
      ]
     },
     "execution_count": 24,
     "metadata": {},
     "output_type": "execute_result"
    }
   ],
   "source": [
    "df.head()"
   ]
  },
  {
   "cell_type": "code",
   "execution_count": 25,
   "id": "aeedf8aa-75b3-43ed-9e12-6e81bd308ac1",
   "metadata": {},
   "outputs": [
    {
     "data": {
      "text/html": [
       "<div>\n",
       "<style scoped>\n",
       "    .dataframe tbody tr th:only-of-type {\n",
       "        vertical-align: middle;\n",
       "    }\n",
       "\n",
       "    .dataframe tbody tr th {\n",
       "        vertical-align: top;\n",
       "    }\n",
       "\n",
       "    .dataframe thead th {\n",
       "        text-align: right;\n",
       "    }\n",
       "</style>\n",
       "<table border=\"1\" class=\"dataframe\">\n",
       "  <thead>\n",
       "    <tr style=\"text-align: right;\">\n",
       "      <th></th>\n",
       "      <th>Age</th>\n",
       "      <th>Gender</th>\n",
       "      <th>Height</th>\n",
       "      <th>Weight</th>\n",
       "      <th>BMI</th>\n",
       "    </tr>\n",
       "  </thead>\n",
       "  <tbody>\n",
       "    <tr>\n",
       "      <th>0</th>\n",
       "      <td>25</td>\n",
       "      <td>Male</td>\n",
       "      <td>175</td>\n",
       "      <td>80</td>\n",
       "      <td>25.3</td>\n",
       "    </tr>\n",
       "    <tr>\n",
       "      <th>1</th>\n",
       "      <td>30</td>\n",
       "      <td>Female</td>\n",
       "      <td>160</td>\n",
       "      <td>60</td>\n",
       "      <td>22.5</td>\n",
       "    </tr>\n",
       "    <tr>\n",
       "      <th>2</th>\n",
       "      <td>35</td>\n",
       "      <td>Male</td>\n",
       "      <td>180</td>\n",
       "      <td>90</td>\n",
       "      <td>27.3</td>\n",
       "    </tr>\n",
       "    <tr>\n",
       "      <th>3</th>\n",
       "      <td>40</td>\n",
       "      <td>Female</td>\n",
       "      <td>150</td>\n",
       "      <td>50</td>\n",
       "      <td>20.0</td>\n",
       "    </tr>\n",
       "    <tr>\n",
       "      <th>4</th>\n",
       "      <td>45</td>\n",
       "      <td>Male</td>\n",
       "      <td>190</td>\n",
       "      <td>100</td>\n",
       "      <td>31.2</td>\n",
       "    </tr>\n",
       "  </tbody>\n",
       "</table>\n",
       "</div>"
      ],
      "text/plain": [
       "   Age  Gender  Height  Weight   BMI\n",
       "0   25    Male     175      80  25.3\n",
       "1   30  Female     160      60  22.5\n",
       "2   35    Male     180      90  27.3\n",
       "3   40  Female     150      50  20.0\n",
       "4   45    Male     190     100  31.2"
      ]
     },
     "execution_count": 25,
     "metadata": {},
     "output_type": "execute_result"
    }
   ],
   "source": [
    "# Creating X label\n",
    "X = df.drop(columns=[\"ID\", \"Label\"])\n",
    "X.head()"
   ]
  },
  {
   "cell_type": "code",
   "execution_count": 26,
   "id": "4a1ab1c7-7df0-4f81-9921-09473d23f77e",
   "metadata": {},
   "outputs": [
    {
     "data": {
      "text/plain": [
       "0    Normal Weight\n",
       "1    Normal Weight\n",
       "2       Overweight\n",
       "3      Underweight\n",
       "4            Obese\n",
       "Name: Label, dtype: object"
      ]
     },
     "execution_count": 26,
     "metadata": {},
     "output_type": "execute_result"
    }
   ],
   "source": [
    "# Creating y label\n",
    "y = df[\"Label\"]\n",
    "y.head()"
   ]
  },
  {
   "cell_type": "markdown",
   "id": "dee2678b-eed2-4514-89dd-caa440239efa",
   "metadata": {},
   "source": [
    "**Encoding categorical data**"
   ]
  },
  {
   "cell_type": "code",
   "execution_count": 27,
   "id": "21699544-039c-4884-bffe-f8e8ad39b280",
   "metadata": {},
   "outputs": [],
   "source": [
    "# Encoding X\n",
    "X = pd.get_dummies(X, columns=['Gender'], drop_first=True)\n",
    "\n",
    "# Encoding y\n",
    "from sklearn.preprocessing import LabelEncoder\n",
    "l_encoder = LabelEncoder()\n",
    "y = l_encoder.fit_transform(y)"
   ]
  },
  {
   "cell_type": "code",
   "execution_count": 28,
   "id": "d7116a6c-9a11-442f-a694-4acdcd3f738a",
   "metadata": {},
   "outputs": [
    {
     "data": {
      "text/html": [
       "<div>\n",
       "<style scoped>\n",
       "    .dataframe tbody tr th:only-of-type {\n",
       "        vertical-align: middle;\n",
       "    }\n",
       "\n",
       "    .dataframe tbody tr th {\n",
       "        vertical-align: top;\n",
       "    }\n",
       "\n",
       "    .dataframe thead th {\n",
       "        text-align: right;\n",
       "    }\n",
       "</style>\n",
       "<table border=\"1\" class=\"dataframe\">\n",
       "  <thead>\n",
       "    <tr style=\"text-align: right;\">\n",
       "      <th></th>\n",
       "      <th>Age</th>\n",
       "      <th>Height</th>\n",
       "      <th>Weight</th>\n",
       "      <th>BMI</th>\n",
       "      <th>Gender_Male</th>\n",
       "    </tr>\n",
       "  </thead>\n",
       "  <tbody>\n",
       "    <tr>\n",
       "      <th>0</th>\n",
       "      <td>25</td>\n",
       "      <td>175</td>\n",
       "      <td>80</td>\n",
       "      <td>25.3</td>\n",
       "      <td>True</td>\n",
       "    </tr>\n",
       "    <tr>\n",
       "      <th>1</th>\n",
       "      <td>30</td>\n",
       "      <td>160</td>\n",
       "      <td>60</td>\n",
       "      <td>22.5</td>\n",
       "      <td>False</td>\n",
       "    </tr>\n",
       "    <tr>\n",
       "      <th>2</th>\n",
       "      <td>35</td>\n",
       "      <td>180</td>\n",
       "      <td>90</td>\n",
       "      <td>27.3</td>\n",
       "      <td>True</td>\n",
       "    </tr>\n",
       "    <tr>\n",
       "      <th>3</th>\n",
       "      <td>40</td>\n",
       "      <td>150</td>\n",
       "      <td>50</td>\n",
       "      <td>20.0</td>\n",
       "      <td>False</td>\n",
       "    </tr>\n",
       "    <tr>\n",
       "      <th>4</th>\n",
       "      <td>45</td>\n",
       "      <td>190</td>\n",
       "      <td>100</td>\n",
       "      <td>31.2</td>\n",
       "      <td>True</td>\n",
       "    </tr>\n",
       "  </tbody>\n",
       "</table>\n",
       "</div>"
      ],
      "text/plain": [
       "   Age  Height  Weight   BMI  Gender_Male\n",
       "0   25     175      80  25.3         True\n",
       "1   30     160      60  22.5        False\n",
       "2   35     180      90  27.3         True\n",
       "3   40     150      50  20.0        False\n",
       "4   45     190     100  31.2         True"
      ]
     },
     "execution_count": 28,
     "metadata": {},
     "output_type": "execute_result"
    }
   ],
   "source": [
    "X.head()"
   ]
  },
  {
   "cell_type": "code",
   "execution_count": 29,
   "id": "567762bb-1012-4eb2-821c-d840978e0585",
   "metadata": {},
   "outputs": [
    {
     "data": {
      "text/plain": [
       "array([0, 0, 2, 3, 1, 3, 1, 3, 1, 3])"
      ]
     },
     "execution_count": 29,
     "metadata": {},
     "output_type": "execute_result"
    }
   ],
   "source": [
    "y[:10]"
   ]
  },
  {
   "cell_type": "markdown",
   "id": "3212c174-572e-4be7-9d11-6fa8a5e4f7ec",
   "metadata": {},
   "source": [
    "**Train and Test Split**\n",
    "\n",
    "We will use `train_test_split()` from `sklearn.model_selection` to split our data into train and test sets.\n",
    "`train_test_split()` helps prevent overfitting by ensuring the model is evaluated on data it hasn’t seen during training, and it shuffles the data.\n",
    "\n",
    "We will split our dataframe to train and test sets:\n",
    "* We will get %80 of `X` as `X_train` and remaining as `X_test`.\n",
    "* We will get %80 of `y` as `y_train` and remaning as `y_test`."
   ]
  },
  {
   "cell_type": "code",
   "execution_count": 30,
   "id": "318d313d-9e8d-4837-95b2-c45cfe3623b2",
   "metadata": {},
   "outputs": [],
   "source": [
    "from sklearn.model_selection import train_test_split\n",
    "\n",
    "X_train, X_test, y_train, y_test = train_test_split(X, y, test_size=0.2)"
   ]
  },
  {
   "cell_type": "code",
   "execution_count": 31,
   "id": "df617cc6-4765-46a1-99fe-db3778f4d5be",
   "metadata": {},
   "outputs": [
    {
     "data": {
      "text/plain": [
       "(86, 22, 86, 22)"
      ]
     },
     "execution_count": 31,
     "metadata": {},
     "output_type": "execute_result"
    }
   ],
   "source": [
    "len(X_train), len(X_test), len(y_train), len(y_test)"
   ]
  },
  {
   "cell_type": "code",
   "execution_count": 32,
   "id": "b9ab4c25-1356-422b-95f5-505dd82d5063",
   "metadata": {},
   "outputs": [
    {
     "data": {
      "text/html": [
       "<div>\n",
       "<style scoped>\n",
       "    .dataframe tbody tr th:only-of-type {\n",
       "        vertical-align: middle;\n",
       "    }\n",
       "\n",
       "    .dataframe tbody tr th {\n",
       "        vertical-align: top;\n",
       "    }\n",
       "\n",
       "    .dataframe thead th {\n",
       "        text-align: right;\n",
       "    }\n",
       "</style>\n",
       "<table border=\"1\" class=\"dataframe\">\n",
       "  <thead>\n",
       "    <tr style=\"text-align: right;\">\n",
       "      <th></th>\n",
       "      <th>Age</th>\n",
       "      <th>Height</th>\n",
       "      <th>Weight</th>\n",
       "      <th>BMI</th>\n",
       "      <th>Gender_Male</th>\n",
       "    </tr>\n",
       "  </thead>\n",
       "  <tbody>\n",
       "    <tr>\n",
       "      <th>17</th>\n",
       "      <td>53</td>\n",
       "      <td>130</td>\n",
       "      <td>40</td>\n",
       "      <td>16.7</td>\n",
       "      <td>False</td>\n",
       "    </tr>\n",
       "    <tr>\n",
       "      <th>23</th>\n",
       "      <td>83</td>\n",
       "      <td>150</td>\n",
       "      <td>50</td>\n",
       "      <td>20.0</td>\n",
       "      <td>False</td>\n",
       "    </tr>\n",
       "    <tr>\n",
       "      <th>72</th>\n",
       "      <td>35</td>\n",
       "      <td>190</td>\n",
       "      <td>65</td>\n",
       "      <td>22.7</td>\n",
       "      <td>True</td>\n",
       "    </tr>\n",
       "    <tr>\n",
       "      <th>80</th>\n",
       "      <td>24</td>\n",
       "      <td>180</td>\n",
       "      <td>45</td>\n",
       "      <td>18.7</td>\n",
       "      <td>True</td>\n",
       "    </tr>\n",
       "    <tr>\n",
       "      <th>15</th>\n",
       "      <td>43</td>\n",
       "      <td>140</td>\n",
       "      <td>50</td>\n",
       "      <td>20.0</td>\n",
       "      <td>False</td>\n",
       "    </tr>\n",
       "  </tbody>\n",
       "</table>\n",
       "</div>"
      ],
      "text/plain": [
       "    Age  Height  Weight   BMI  Gender_Male\n",
       "17   53     130      40  16.7        False\n",
       "23   83     150      50  20.0        False\n",
       "72   35     190      65  22.7         True\n",
       "80   24     180      45  18.7         True\n",
       "15   43     140      50  20.0        False"
      ]
     },
     "execution_count": 32,
     "metadata": {},
     "output_type": "execute_result"
    }
   ],
   "source": [
    "X_train.head()"
   ]
  },
  {
   "cell_type": "markdown",
   "id": "9b74e026-6672-40b3-8343-ae39035297ff",
   "metadata": {},
   "source": [
    "Now our data is ready to be fit into a machine learning model!"
   ]
  },
  {
   "cell_type": "markdown",
   "id": "a2272b8d-fb6a-4528-b930-ff1ca7c28f91",
   "metadata": {},
   "source": [
    "## Choosing the Model"
   ]
  },
  {
   "cell_type": "markdown",
   "id": "b2800470-f808-4fa4-bc4b-7afef0abd06d",
   "metadata": {},
   "source": [
    "We have split our data into X and y. Then, we encoded our, and finally we splitted our data to train and test sets.\n",
    "\n",
    "Now, it is time to feed our models by one by.\n",
    "\n",
    "**Section Overview**:\n",
    "- Try to eliminate models which are under performing.\n",
    "- We first evaluate the model with basic `score()` method!"
   ]
  },
  {
   "cell_type": "markdown",
   "id": "d653b93f-fbaa-4297-b91b-26a4c6d7b7ce",
   "metadata": {},
   "source": [
    "### LinearSVC"
   ]
  },
  {
   "cell_type": "code",
   "execution_count": 33,
   "id": "2262ebe6-db91-4345-91c3-8778f147209b",
   "metadata": {},
   "outputs": [
    {
     "data": {
      "text/plain": [
       "0.8636363636363636"
      ]
     },
     "execution_count": 33,
     "metadata": {},
     "output_type": "execute_result"
    }
   ],
   "source": [
    "# Importing our model\n",
    "from sklearn.svm import LinearSVC\n",
    "\n",
    "# Creating an instance of the model\n",
    "svc_model = LinearSVC()\n",
    "\n",
    "# Training the model\n",
    "svc_model.fit(X_train, y_train)\n",
    "\n",
    "# Scoring the model\n",
    "svc_model.score(X_test, y_test)"
   ]
  },
  {
   "cell_type": "code",
   "execution_count": 34,
   "id": "5ac6a0f7-4198-48a4-b1e6-9f87de0a6a96",
   "metadata": {},
   "outputs": [
    {
     "data": {
      "text/plain": [
       "array([2, 3, 0, 1, 3])"
      ]
     },
     "execution_count": 34,
     "metadata": {},
     "output_type": "execute_result"
    }
   ],
   "source": [
    "svc_y_preds = svc_model.predict(X_test)\n",
    "svc_y_preds[:5]"
   ]
  },
  {
   "cell_type": "markdown",
   "id": "854e369b-3aa9-46cb-9473-14338f308a1d",
   "metadata": {},
   "source": [
    "### KNeighbors Classifier"
   ]
  },
  {
   "cell_type": "code",
   "execution_count": 35,
   "id": "221d03af-c8ac-4097-9821-3871369312b7",
   "metadata": {},
   "outputs": [
    {
     "data": {
      "text/plain": [
       "0.7727272727272727"
      ]
     },
     "execution_count": 35,
     "metadata": {},
     "output_type": "execute_result"
    }
   ],
   "source": [
    "# Importing our model\n",
    "from sklearn.neighbors import KNeighborsClassifier\n",
    "\n",
    "# Creating an instance of the model\n",
    "neigh = KNeighborsClassifier()\n",
    "\n",
    "# Training the model\n",
    "neigh.fit(X_train, y_train)\n",
    "\n",
    "# Scoring the model\n",
    "neigh.score(X_test, y_test)"
   ]
  },
  {
   "cell_type": "code",
   "execution_count": 36,
   "id": "046259ac-80d7-47a8-a5e8-2dbda56d4e26",
   "metadata": {},
   "outputs": [
    {
     "data": {
      "text/plain": [
       "array([2, 3, 0, 2, 3])"
      ]
     },
     "execution_count": 36,
     "metadata": {},
     "output_type": "execute_result"
    }
   ],
   "source": [
    "neigh_y_preds = neigh.predict(X_test)\n",
    "neigh_y_preds[:5]"
   ]
  },
  {
   "cell_type": "code",
   "execution_count": 37,
   "id": "376e0b6c-b03b-49d0-87ce-1bb0697bd6ed",
   "metadata": {},
   "outputs": [
    {
     "data": {
      "text/plain": [
       "array([[0. , 0.2, 0.8, 0. ],\n",
       "       [0. , 0. , 0. , 1. ],\n",
       "       [0.8, 0. , 0.2, 0. ],\n",
       "       [0.2, 0. , 0.8, 0. ],\n",
       "       [0.4, 0. , 0. , 0.6]])"
      ]
     },
     "execution_count": 37,
     "metadata": {},
     "output_type": "execute_result"
    }
   ],
   "source": [
    "neigh_y_proba = neigh.predict_proba(X_test)\n",
    "neigh_y_proba[:5]"
   ]
  },
  {
   "cell_type": "markdown",
   "id": "e7b1add3-be44-4a16-8365-40c516255386",
   "metadata": {},
   "source": [
    "### Random Forest Classifier"
   ]
  },
  {
   "cell_type": "code",
   "execution_count": 38,
   "id": "6e276fd9-cce2-45c8-b222-7c0e41f287a4",
   "metadata": {},
   "outputs": [
    {
     "data": {
      "text/plain": [
       "1.0"
      ]
     },
     "execution_count": 38,
     "metadata": {},
     "output_type": "execute_result"
    }
   ],
   "source": [
    "# Importing our model\n",
    "from sklearn.ensemble import RandomForestClassifier\n",
    "\n",
    "# Creating an instance of the model\n",
    "clf = RandomForestClassifier()\n",
    "\n",
    "# Training the model\n",
    "clf.fit(X_train, y_train)\n",
    "\n",
    "# Scoring the model\n",
    "clf.score(X_test, y_test)"
   ]
  },
  {
   "cell_type": "code",
   "execution_count": 39,
   "id": "e3564f4e-84db-48d6-a4f8-654bf52d95ee",
   "metadata": {},
   "outputs": [
    {
     "data": {
      "text/plain": [
       "array([2, 3, 0, 2, 3])"
      ]
     },
     "execution_count": 39,
     "metadata": {},
     "output_type": "execute_result"
    }
   ],
   "source": [
    "clf_y_preds = clf.predict(X_test)\n",
    "clf_y_preds[:5]"
   ]
  },
  {
   "cell_type": "code",
   "execution_count": 40,
   "id": "cbadcd8b-d5c6-4b92-8272-e4878ca1b259",
   "metadata": {},
   "outputs": [
    {
     "data": {
      "text/plain": [
       "array([[0.03, 0.03, 0.94, 0.  ],\n",
       "       [0.  , 0.  , 0.  , 1.  ],\n",
       "       [0.96, 0.  , 0.04, 0.  ],\n",
       "       [0.02, 0.22, 0.76, 0.  ],\n",
       "       [0.01, 0.02, 0.01, 0.96]])"
      ]
     },
     "execution_count": 40,
     "metadata": {},
     "output_type": "execute_result"
    }
   ],
   "source": [
    "clf_y_proba = clf.predict_proba(X_test)\n",
    "clf_y_proba[:5]"
   ]
  },
  {
   "cell_type": "markdown",
   "id": "bca89340-afd9-4aca-8384-6b375b136ba3",
   "metadata": {},
   "source": [
    "### Hist Gradient Boosting Classifier"
   ]
  },
  {
   "cell_type": "code",
   "execution_count": 41,
   "id": "9ab8ce1f-8a4f-43ba-a613-2909dfcc4ba7",
   "metadata": {},
   "outputs": [
    {
     "data": {
      "text/plain": [
       "0.9545454545454546"
      ]
     },
     "execution_count": 41,
     "metadata": {},
     "output_type": "execute_result"
    }
   ],
   "source": [
    "# Importing our model\n",
    "from sklearn.ensemble import HistGradientBoostingClassifier\n",
    "\n",
    "# Creating an instance of the model\n",
    "hclf = HistGradientBoostingClassifier()\n",
    "\n",
    "# Training the model\n",
    "hclf.fit(X_train, y_train)\n",
    "\n",
    "# Scoring the model\n",
    "hclf.score(X_test, y_test)"
   ]
  },
  {
   "cell_type": "code",
   "execution_count": 42,
   "id": "8f8ef2a5-8037-4a7f-932e-cd816852af3b",
   "metadata": {},
   "outputs": [
    {
     "data": {
      "text/plain": [
       "array([2, 3, 0, 2, 3])"
      ]
     },
     "execution_count": 42,
     "metadata": {},
     "output_type": "execute_result"
    }
   ],
   "source": [
    "hclf_y_preds = hclf.predict(X_test)\n",
    "hclf_y_preds[:5]"
   ]
  },
  {
   "cell_type": "code",
   "execution_count": 43,
   "id": "e0394810-7ff1-434d-b6f3-09ba354b6cb8",
   "metadata": {},
   "outputs": [
    {
     "data": {
      "text/plain": [
       "array([[2.25531556e-03, 1.03669015e-01, 8.93935397e-01, 1.40272833e-04],\n",
       "       [8.59545297e-06, 3.05454747e-08, 1.76284332e-08, 9.99991356e-01],\n",
       "       [9.91623971e-01, 6.55916013e-06, 8.36572533e-03, 3.74452141e-06],\n",
       "       [4.25149836e-04, 1.51716319e-02, 9.84370844e-01, 3.23742126e-05],\n",
       "       [8.10801113e-07, 1.88676774e-06, 1.52321726e-05, 9.99982070e-01]])"
      ]
     },
     "execution_count": 43,
     "metadata": {},
     "output_type": "execute_result"
    }
   ],
   "source": [
    "hclf_y_proba = hclf.predict_proba(X_test)\n",
    "hclf_y_proba[:5]"
   ]
  },
  {
   "cell_type": "markdown",
   "id": "afc811d7-098f-4bec-bca9-1dd01bef427b",
   "metadata": {},
   "source": [
    "**Final Decision**:\n",
    "- We will eliminate - LinearSVC and KNeighbour Classifier -\n",
    "- We see that these to gets the worst score among others!"
   ]
  },
  {
   "cell_type": "markdown",
   "id": "020ae58e-5552-4bbb-b07d-4a43d85580c1",
   "metadata": {},
   "source": [
    "## Evaluating the Models\n",
    "\n",
    "We are gone use scikit learn evaluation functions to determine the score of models before processing any further!\n",
    "\n",
    "Some of the functions we're going to use are:\n",
    "- Accuracy, f1 score, confusion matrix, precision score, recall score\n",
    "- We will do cross-validation afterwards to be sure the score we get is not luck!"
   ]
  },
  {
   "cell_type": "markdown",
   "id": "af11f6a5-5894-4994-a8df-3f2c40f986e5",
   "metadata": {},
   "source": [
    "First I will create a helper function to evaluate our model and return the results!"
   ]
  },
  {
   "cell_type": "code",
   "execution_count": 44,
   "id": "675156af-e96f-452c-94c7-c579345e4c2a",
   "metadata": {},
   "outputs": [],
   "source": [
    "# Imports for evaluation functions\n",
    "from sklearn.metrics import make_scorer, accuracy_score, f1_score, confusion_matrix, precision_score, recall_score\n",
    "from sklearn.model_selection import cross_val_score"
   ]
  },
  {
   "cell_type": "code",
   "execution_count": 45,
   "id": "85b27d86-73cf-4c71-a7af-c8612989d0e6",
   "metadata": {},
   "outputs": [],
   "source": [
    "# Creating the helper function called `evaluate()`\n",
    "def evaluate(y_true, y_score):\n",
    "    # Going thorugh evaluation functions and assign them to variables\n",
    "    acc = accuracy_score(y_true, y_score)\n",
    "    f1 = f1_score(y_true, y_score, average='weighted')\n",
    "    prec = precision_score(y_true, y_score, average='weighted')\n",
    "    recall = recall_score(y_true, y_score, average='weighted')\n",
    "\n",
    "    # Creating a dictionary which holds the name of the func and the value we got from the func\n",
    "    eval_dict = {\n",
    "        \"Accuracy\": f\"{acc:.2f}\",\n",
    "        \"F1 Score\": f\"{f1:.2f}\",\n",
    "        \"Precision\": f\"{prec:.2f}\",\n",
    "        \"Recall\": f\"{recall:.2f}\",\n",
    "    }\n",
    "\n",
    "    # Returning the dictionary\n",
    "    return eval_dict"
   ]
  },
  {
   "cell_type": "code",
   "execution_count": 46,
   "id": "3f20288c-a300-40c6-b812-bf940967dddb",
   "metadata": {},
   "outputs": [],
   "source": [
    "# Creating the helper cross validating func called `evaluate_cv()`\n",
    "def evaluate_cv(model, X, y, cv=5):\n",
    "    # cross validation our model with different `scoring` parameters\n",
    "    acc = cross_val_score(model, X, y, cv=cv, scoring=\"accuracy\")\n",
    "    f1 = cross_val_score(model, X, y, cv=cv, scoring=\"f1_weighted\")\n",
    "    prec = cross_val_score(model, X, y, cv=cv, scoring=make_scorer(precision_score, average=\"weighted\", zero_division=1))\n",
    "    recall = cross_val_score(model, X, y, cv=cv, scoring=\"recall_weighted\")\n",
    "\n",
    "    # Creating a dictionary which holds the name of the `scoring` parameter and the value we got from the func\n",
    "    eval_cv_dict = {\n",
    "        \"Accuracy\": f\"{acc.mean():.2f}\",\n",
    "        \"F1 Score\": f\"{f1.mean():.2f}\",\n",
    "        \"Precision\": f\"{prec.mean():.2f}\",\n",
    "        \"Recall\": f\"{recall.mean():.2f}\",\n",
    "    }\n",
    "\n",
    "    # Returning the dictionary\n",
    "    return eval_cv_dict"
   ]
  },
  {
   "cell_type": "markdown",
   "id": "a35abd67-6ffb-41e3-8fc8-4d4fef3d0f86",
   "metadata": {},
   "source": [
    "**Evaluating Random Forest Classifier Estimator**"
   ]
  },
  {
   "cell_type": "code",
   "execution_count": 47,
   "id": "188bb28d-c1c7-4366-9db0-044ec6014767",
   "metadata": {},
   "outputs": [
    {
     "data": {
      "text/plain": [
       "(array([2, 3, 0]), array([2, 3, 0]))"
      ]
     },
     "execution_count": 47,
     "metadata": {},
     "output_type": "execute_result"
    }
   ],
   "source": [
    "y_test[:3], clf_y_preds[:3]"
   ]
  },
  {
   "cell_type": "code",
   "execution_count": 48,
   "id": "2017c7c1-46ac-4b1e-a0a5-cf77b387245e",
   "metadata": {},
   "outputs": [
    {
     "data": {
      "text/plain": [
       "array([[6, 0, 0, 0],\n",
       "       [0, 3, 0, 0],\n",
       "       [0, 0, 6, 0],\n",
       "       [0, 0, 0, 7]])"
      ]
     },
     "execution_count": 48,
     "metadata": {},
     "output_type": "execute_result"
    }
   ],
   "source": [
    "# Let's start with confusion matrix\n",
    "confusion_matrix(y_test, clf_y_preds)"
   ]
  },
  {
   "cell_type": "code",
   "execution_count": 49,
   "id": "959a029a-71b2-4f5d-a476-c7614a597cfe",
   "metadata": {},
   "outputs": [
    {
     "data": {
      "text/plain": [
       "{'Accuracy': '1.00', 'F1 Score': '1.00', 'Precision': '1.00', 'Recall': '1.00'}"
      ]
     },
     "execution_count": 49,
     "metadata": {},
     "output_type": "execute_result"
    }
   ],
   "source": [
    "# Now it is time to give our function a go\n",
    "clf_eval = evaluate(y_test, clf_y_preds)\n",
    "clf_eval"
   ]
  },
  {
   "cell_type": "code",
   "execution_count": 50,
   "id": "6d693c7a-1e78-4829-9015-ecdda0414252",
   "metadata": {},
   "outputs": [
    {
     "data": {
      "text/plain": [
       "{'Accuracy': '0.97', 'F1 Score': '0.97', 'Precision': '0.99', 'Recall': '0.97'}"
      ]
     },
     "execution_count": 50,
     "metadata": {},
     "output_type": "execute_result"
    }
   ],
   "source": [
    "# Cross validating our Random Forest Classifier Estimator\n",
    "clf_cross_val = evaluate_cv(clf, X, y)\n",
    "clf_cross_val"
   ]
  },
  {
   "cell_type": "markdown",
   "id": "c40f5ac2-e6a5-4595-8793-2cbcc59687f8",
   "metadata": {},
   "source": [
    "**Improvement**: We create a Pandas DataFrame to compare normal evaluating vs cross validation evaluating"
   ]
  },
  {
   "cell_type": "code",
   "execution_count": 51,
   "id": "5421660d-3854-4e2a-857d-b268616bde58",
   "metadata": {},
   "outputs": [
    {
     "data": {
      "text/html": [
       "<div>\n",
       "<style scoped>\n",
       "    .dataframe tbody tr th:only-of-type {\n",
       "        vertical-align: middle;\n",
       "    }\n",
       "\n",
       "    .dataframe tbody tr th {\n",
       "        vertical-align: top;\n",
       "    }\n",
       "\n",
       "    .dataframe thead th {\n",
       "        text-align: right;\n",
       "    }\n",
       "</style>\n",
       "<table border=\"1\" class=\"dataframe\">\n",
       "  <thead>\n",
       "    <tr style=\"text-align: right;\">\n",
       "      <th></th>\n",
       "      <th>Accuracy</th>\n",
       "      <th>F1 Score</th>\n",
       "      <th>Precision</th>\n",
       "      <th>Recall</th>\n",
       "    </tr>\n",
       "  </thead>\n",
       "  <tbody>\n",
       "    <tr>\n",
       "      <th>Random Forest Classifier</th>\n",
       "      <td>1.00</td>\n",
       "      <td>1.00</td>\n",
       "      <td>1.00</td>\n",
       "      <td>1.00</td>\n",
       "    </tr>\n",
       "    <tr>\n",
       "      <th>Random Forest Classifier (CV)</th>\n",
       "      <td>0.97</td>\n",
       "      <td>0.97</td>\n",
       "      <td>0.99</td>\n",
       "      <td>0.97</td>\n",
       "    </tr>\n",
       "  </tbody>\n",
       "</table>\n",
       "</div>"
      ],
      "text/plain": [
       "                              Accuracy F1 Score Precision Recall\n",
       "Random Forest Classifier          1.00     1.00      1.00   1.00\n",
       "Random Forest Classifier (CV)     0.97     0.97      0.99   0.97"
      ]
     },
     "execution_count": 51,
     "metadata": {},
     "output_type": "execute_result"
    }
   ],
   "source": [
    "clf_compare = pd.DataFrame(data=[clf_eval, clf_cross_val], index=[\"Random Forest Classifier\", \"Random Forest Classifier (CV)\"])\n",
    "clf_compare"
   ]
  },
  {
   "cell_type": "markdown",
   "id": "27721cc3-5769-4774-b864-0297be4e602b",
   "metadata": {},
   "source": [
    "**Decision**: It seems that we have got a nearly perfect model before hyperparameter tuning. However, it seems that we can do better as mean of cross validation score reduces a bit!"
   ]
  },
  {
   "cell_type": "markdown",
   "id": "5fead816-ce02-4fd1-8af1-3a9531b5f2ef",
   "metadata": {},
   "source": [
    "**Evaluating Hist Gradient Boosting Classifier**"
   ]
  },
  {
   "cell_type": "code",
   "execution_count": 52,
   "id": "d6a5b542-a1ec-4df6-bff8-bdd4fd8a384a",
   "metadata": {},
   "outputs": [
    {
     "data": {
      "text/plain": [
       "(array([2, 3, 0]), array([2, 3, 0]))"
      ]
     },
     "execution_count": 52,
     "metadata": {},
     "output_type": "execute_result"
    }
   ],
   "source": [
    "y_test[:3], hclf_y_preds[:3]"
   ]
  },
  {
   "cell_type": "code",
   "execution_count": 53,
   "id": "bebb2da9-0e49-424c-af15-5d5d56d1e158",
   "metadata": {},
   "outputs": [
    {
     "data": {
      "text/plain": [
       "array([[6, 0, 0, 0],\n",
       "       [0, 2, 1, 0],\n",
       "       [0, 0, 6, 0],\n",
       "       [0, 0, 0, 7]])"
      ]
     },
     "execution_count": 53,
     "metadata": {},
     "output_type": "execute_result"
    }
   ],
   "source": [
    "# Confusion Matrix\n",
    "confusion_matrix(y_test, hclf_y_preds)"
   ]
  },
  {
   "cell_type": "code",
   "execution_count": 54,
   "id": "92fd7f9d-9aea-445b-992f-42e36ff7ba06",
   "metadata": {},
   "outputs": [
    {
     "data": {
      "text/plain": [
       "{'Accuracy': '0.95', 'F1 Score': '0.95', 'Precision': '0.96', 'Recall': '0.95'}"
      ]
     },
     "execution_count": 54,
     "metadata": {},
     "output_type": "execute_result"
    }
   ],
   "source": [
    "# Evaluating the model with `evaluate()` func\n",
    "hclf_eval = evaluate(y_test, hclf_y_preds)\n",
    "hclf_eval"
   ]
  },
  {
   "cell_type": "code",
   "execution_count": 55,
   "id": "3de04196-fa49-4461-85f8-f722c8cf14a6",
   "metadata": {},
   "outputs": [
    {
     "data": {
      "text/plain": [
       "{'Accuracy': '0.91', 'F1 Score': '0.90', 'Precision': '0.95', 'Recall': '0.91'}"
      ]
     },
     "execution_count": 55,
     "metadata": {},
     "output_type": "execute_result"
    }
   ],
   "source": [
    "# CrossValidate evaluating the model with `evaluate_cv()` func\n",
    "hclf_cross_val = evaluate_cv(hclf, X, y)\n",
    "hclf_cross_val"
   ]
  },
  {
   "cell_type": "code",
   "execution_count": 56,
   "id": "c4efaeee-f6f6-4fa2-baa7-13c4e9853de6",
   "metadata": {},
   "outputs": [
    {
     "data": {
      "text/html": [
       "<div>\n",
       "<style scoped>\n",
       "    .dataframe tbody tr th:only-of-type {\n",
       "        vertical-align: middle;\n",
       "    }\n",
       "\n",
       "    .dataframe tbody tr th {\n",
       "        vertical-align: top;\n",
       "    }\n",
       "\n",
       "    .dataframe thead th {\n",
       "        text-align: right;\n",
       "    }\n",
       "</style>\n",
       "<table border=\"1\" class=\"dataframe\">\n",
       "  <thead>\n",
       "    <tr style=\"text-align: right;\">\n",
       "      <th></th>\n",
       "      <th>Accuracy</th>\n",
       "      <th>F1 Score</th>\n",
       "      <th>Precision</th>\n",
       "      <th>Recall</th>\n",
       "    </tr>\n",
       "  </thead>\n",
       "  <tbody>\n",
       "    <tr>\n",
       "      <th>Hist Gradient Boosting Classifier</th>\n",
       "      <td>0.95</td>\n",
       "      <td>0.95</td>\n",
       "      <td>0.96</td>\n",
       "      <td>0.95</td>\n",
       "    </tr>\n",
       "    <tr>\n",
       "      <th>Hist Gradient Boosting Classifier (CV)</th>\n",
       "      <td>0.91</td>\n",
       "      <td>0.90</td>\n",
       "      <td>0.95</td>\n",
       "      <td>0.91</td>\n",
       "    </tr>\n",
       "  </tbody>\n",
       "</table>\n",
       "</div>"
      ],
      "text/plain": [
       "                                       Accuracy F1 Score Precision Recall\n",
       "Hist Gradient Boosting Classifier          0.95     0.95      0.96   0.95\n",
       "Hist Gradient Boosting Classifier (CV)     0.91     0.90      0.95   0.91"
      ]
     },
     "execution_count": 56,
     "metadata": {},
     "output_type": "execute_result"
    }
   ],
   "source": [
    "# Creating a Pandas DataFrame to compare our evaluations better\n",
    "hclf_compare = pd.DataFrame(data=[hclf_eval, hclf_cross_val], index=[\"Hist Gradient Boosting Classifier\", \"Hist Gradient Boosting Classifier (CV)\"])\n",
    "hclf_compare"
   ]
  },
  {
   "cell_type": "markdown",
   "id": "b9632fcd-9b16-411d-9452-4d8111f81727",
   "metadata": {},
   "source": [
    "**Comparing Both Models Evaluating and CV Evaluating**\n",
    "\n",
    "In this section, we will combine both compare DataFrames to not only comparing evaluating and CV evaluating, but actually compare the two models with evaluations and CV evaluations..."
   ]
  },
  {
   "cell_type": "code",
   "execution_count": 57,
   "id": "108eb62a-391e-4ede-91ae-2dc41d0306f4",
   "metadata": {},
   "outputs": [
    {
     "data": {
      "text/html": [
       "<div>\n",
       "<style scoped>\n",
       "    .dataframe tbody tr th:only-of-type {\n",
       "        vertical-align: middle;\n",
       "    }\n",
       "\n",
       "    .dataframe tbody tr th {\n",
       "        vertical-align: top;\n",
       "    }\n",
       "\n",
       "    .dataframe thead th {\n",
       "        text-align: right;\n",
       "    }\n",
       "</style>\n",
       "<table border=\"1\" class=\"dataframe\">\n",
       "  <thead>\n",
       "    <tr style=\"text-align: right;\">\n",
       "      <th></th>\n",
       "      <th>Accuracy</th>\n",
       "      <th>F1 Score</th>\n",
       "      <th>Precision</th>\n",
       "      <th>Recall</th>\n",
       "    </tr>\n",
       "  </thead>\n",
       "  <tbody>\n",
       "    <tr>\n",
       "      <th>Random Forest Classifier</th>\n",
       "      <td>1.00</td>\n",
       "      <td>1.00</td>\n",
       "      <td>1.00</td>\n",
       "      <td>1.00</td>\n",
       "    </tr>\n",
       "    <tr>\n",
       "      <th>Random Forest Classifier (CV)</th>\n",
       "      <td>0.97</td>\n",
       "      <td>0.97</td>\n",
       "      <td>0.99</td>\n",
       "      <td>0.97</td>\n",
       "    </tr>\n",
       "    <tr>\n",
       "      <th>Hist Gradient Boosting Classifier</th>\n",
       "      <td>0.95</td>\n",
       "      <td>0.95</td>\n",
       "      <td>0.96</td>\n",
       "      <td>0.95</td>\n",
       "    </tr>\n",
       "    <tr>\n",
       "      <th>Hist Gradient Boosting Classifier (CV)</th>\n",
       "      <td>0.91</td>\n",
       "      <td>0.90</td>\n",
       "      <td>0.95</td>\n",
       "      <td>0.91</td>\n",
       "    </tr>\n",
       "  </tbody>\n",
       "</table>\n",
       "</div>"
      ],
      "text/plain": [
       "                                       Accuracy F1 Score Precision Recall\n",
       "Random Forest Classifier                   1.00     1.00      1.00   1.00\n",
       "Random Forest Classifier (CV)              0.97     0.97      0.99   0.97\n",
       "Hist Gradient Boosting Classifier          0.95     0.95      0.96   0.95\n",
       "Hist Gradient Boosting Classifier (CV)     0.91     0.90      0.95   0.91"
      ]
     },
     "execution_count": 57,
     "metadata": {},
     "output_type": "execute_result"
    }
   ],
   "source": [
    "models_compare = pd.concat([clf_compare, hclf_compare])\n",
    "models_compare"
   ]
  },
  {
   "cell_type": "markdown",
   "id": "e41c5235-107b-4b7e-9da9-c3509bb918e5",
   "metadata": {},
   "source": [
    "**Final Decision**: It seems that `Random Forest Classifier` suits our problem the best. However, I will try to do hyperparameter tuning both of them!"
   ]
  },
  {
   "cell_type": "markdown",
   "id": "37be5f08-f1a4-4b80-b3ce-8bf5d229ee1f",
   "metadata": {},
   "source": [
    "## Hyperparameter Tuning\n",
    "\n",
    "We will use `RandomizedSearchCV` and `GridSearchCV` to determine the best parameters for our models to improve the score.\n",
    "\n",
    "**Note**:\n",
    "- `RandomizedSearchCV` will be used to try different variety of parameters. There will be many different parameters as we are able to select how many times it will try different parameters thank to `n_iter` parameter.\n",
    "- `GridSearchCV` will be used after `RandomizedSearchCV` and we will try to slightly adjust the parameter values as it tries every single possible pattern for Hyperparameter Tuning. It will allow us to reduce the time!"
   ]
  },
  {
   "cell_type": "markdown",
   "id": "5a71d3aa-35f5-41d5-aa1f-d175006e49b1",
   "metadata": {},
   "source": [
    "### Random Forest Classifier"
   ]
  },
  {
   "cell_type": "markdown",
   "id": "2042fd9e-90d1-416c-a2a8-a9cf71239e8b",
   "metadata": {},
   "source": [
    "#### RandomizedSearchCV"
   ]
  },
  {
   "cell_type": "code",
   "execution_count": 58,
   "id": "aa66f124-4f1d-49aa-bb71-177424381f07",
   "metadata": {},
   "outputs": [],
   "source": [
    "clf_randomized = {\n",
    "    \"n_estimators\": [100, 200, 500],\n",
    "    \"max_depth\": [None, 10, 20, 30, 40, 50],\n",
    "    \"min_samples_split\": [2, 5, 10],\n",
    "    \"min_samples_leaf\": [1, 2, 4],\n",
    "    \"max_features\": [\"sqrt\", \"log2\"],\n",
    "}"
   ]
  },
  {
   "cell_type": "code",
   "execution_count": 59,
   "id": "62f4d362-fc11-43ec-a877-867adb4902b4",
   "metadata": {},
   "outputs": [
    {
     "name": "stderr",
     "output_type": "stream",
     "text": [
      "C:\\Users\\emrev\\PycharmProjects\\obesityClassification\\.venv\\Lib\\site-packages\\numpy\\ma\\core.py:2881: RuntimeWarning: invalid value encountered in cast\n",
      "  _data = np.array(data, dtype=dtype, copy=copy,\n"
     ]
    },
    {
     "data": {
      "text/plain": [
       "{'n_estimators': 100,\n",
       " 'min_samples_split': 2,\n",
       " 'min_samples_leaf': 1,\n",
       " 'max_features': 'log2',\n",
       " 'max_depth': 30}"
      ]
     },
     "execution_count": 59,
     "metadata": {},
     "output_type": "execute_result"
    }
   ],
   "source": [
    "from sklearn.model_selection import RandomizedSearchCV\n",
    "\n",
    "# Creating estimator to try different params\n",
    "clf_rand = RandomizedSearchCV(clf, clf_randomized, n_iter=10)\n",
    "\n",
    "# Fitting our model\n",
    "clf_rand.fit(X_train, y_train)\n",
    "\n",
    "# Getting best params\n",
    "clf_rand.best_params_"
   ]
  },
  {
   "cell_type": "code",
   "execution_count": 60,
   "id": "8dc2182a-4527-4593-b1bb-1792dee8c82d",
   "metadata": {},
   "outputs": [
    {
     "data": {
      "text/plain": [
       "1.0"
      ]
     },
     "execution_count": 60,
     "metadata": {},
     "output_type": "execute_result"
    }
   ],
   "source": [
    "# Getting the score\n",
    "clf_rand.score(X_test, y_test)"
   ]
  },
  {
   "cell_type": "markdown",
   "id": "16eb278b-d338-428b-86e7-9490ea4c208b",
   "metadata": {},
   "source": [
    "**Evaluating**"
   ]
  },
  {
   "cell_type": "code",
   "execution_count": 61,
   "id": "88ae4f34-366e-4d1e-9e37-a028a06099ca",
   "metadata": {},
   "outputs": [],
   "source": [
    "clf_rand_pred = clf_rand.predict(X_test)"
   ]
  },
  {
   "cell_type": "code",
   "execution_count": 62,
   "id": "e7c44f36-e189-4a57-ba45-cb980b0d8369",
   "metadata": {},
   "outputs": [
    {
     "data": {
      "text/plain": [
       "{'Accuracy': '1.00', 'F1 Score': '1.00', 'Precision': '1.00', 'Recall': '1.00'}"
      ]
     },
     "execution_count": 62,
     "metadata": {},
     "output_type": "execute_result"
    }
   ],
   "source": [
    "# Normal evaluating\n",
    "clf_rand_eval = evaluate(y_test, clf_rand_pred)\n",
    "clf_rand_eval"
   ]
  },
  {
   "cell_type": "markdown",
   "id": "9fe1e2aa-397a-426a-8851-7e3ac69b2fb5",
   "metadata": {},
   "source": [
    "#### GridSearchCV"
   ]
  },
  {
   "cell_type": "code",
   "execution_count": 63,
   "id": "1aa88a35-8dfc-4dc6-a0c5-46d4507387d4",
   "metadata": {},
   "outputs": [],
   "source": [
    "clf_g = {\n",
    "    \"n_estimators\": [200, 500],\n",
    "    \"max_depth\": [30, 40, 50],\n",
    "    \"min_samples_split\": [5, 10],\n",
    "    \"min_samples_leaf\": [1, 2],\n",
    "    \"max_features\": [\"sqrt\", \"log2\"],\n",
    "}"
   ]
  },
  {
   "cell_type": "code",
   "execution_count": 64,
   "id": "c2070223-7c1a-4bdb-b6f4-40173d022b5f",
   "metadata": {},
   "outputs": [
    {
     "name": "stderr",
     "output_type": "stream",
     "text": [
      "C:\\Users\\emrev\\PycharmProjects\\obesityClassification\\.venv\\Lib\\site-packages\\numpy\\ma\\core.py:2881: RuntimeWarning: invalid value encountered in cast\n",
      "  _data = np.array(data, dtype=dtype, copy=copy,\n"
     ]
    },
    {
     "data": {
      "text/plain": [
       "{'n_estimators': 200,\n",
       " 'min_samples_split': 5,\n",
       " 'min_samples_leaf': 2,\n",
       " 'max_features': 'log2',\n",
       " 'max_depth': 40}"
      ]
     },
     "execution_count": 64,
     "metadata": {},
     "output_type": "execute_result"
    }
   ],
   "source": [
    "from sklearn.model_selection import GridSearchCV\n",
    "\n",
    "# Creating estimator to try different params\n",
    "clf_grid = RandomizedSearchCV(clf, clf_g)\n",
    "\n",
    "# Fitting our model\n",
    "clf_grid.fit(X_train, y_train)\n",
    "\n",
    "# Getting best params\n",
    "clf_grid.best_params_"
   ]
  },
  {
   "cell_type": "code",
   "execution_count": 65,
   "id": "2f08b418-2683-454e-8e9b-7ebe895f88af",
   "metadata": {},
   "outputs": [
    {
     "data": {
      "text/plain": [
       "1.0"
      ]
     },
     "execution_count": 65,
     "metadata": {},
     "output_type": "execute_result"
    }
   ],
   "source": [
    "# Scoring our model\n",
    "clf_grid.score(X_test, y_test)"
   ]
  },
  {
   "cell_type": "markdown",
   "id": "5fa4b4a2-34b2-4a73-b02a-58982a2727c4",
   "metadata": {},
   "source": [
    "**Evaluating**"
   ]
  },
  {
   "cell_type": "code",
   "execution_count": 66,
   "id": "c6796af4-96fe-4f5b-a67f-6d664b5462d6",
   "metadata": {},
   "outputs": [],
   "source": [
    "clf_grid_pred = clf_grid.predict(X_test)"
   ]
  },
  {
   "cell_type": "code",
   "execution_count": 67,
   "id": "a662f013-6c4a-4a55-ba6c-0581ca5edcf8",
   "metadata": {},
   "outputs": [
    {
     "data": {
      "text/plain": [
       "{'Accuracy': '1.00', 'F1 Score': '1.00', 'Precision': '1.00', 'Recall': '1.00'}"
      ]
     },
     "execution_count": 67,
     "metadata": {},
     "output_type": "execute_result"
    }
   ],
   "source": [
    "# Normal evaluating\n",
    "clf_grid_eval = evaluate(y_test, clf_grid_pred)\n",
    "clf_grid_eval"
   ]
  },
  {
   "cell_type": "markdown",
   "id": "a95f115d-c98f-4a3a-9c4a-f65290beaee1",
   "metadata": {},
   "source": [
    "**Comparing GridSearchCV vs RandomizedSearchCV**"
   ]
  },
  {
   "cell_type": "code",
   "execution_count": 68,
   "id": "19157aad-7b3e-4917-af30-5406dbb6b446",
   "metadata": {},
   "outputs": [
    {
     "data": {
      "text/html": [
       "<div>\n",
       "<style scoped>\n",
       "    .dataframe tbody tr th:only-of-type {\n",
       "        vertical-align: middle;\n",
       "    }\n",
       "\n",
       "    .dataframe tbody tr th {\n",
       "        vertical-align: top;\n",
       "    }\n",
       "\n",
       "    .dataframe thead th {\n",
       "        text-align: right;\n",
       "    }\n",
       "</style>\n",
       "<table border=\"1\" class=\"dataframe\">\n",
       "  <thead>\n",
       "    <tr style=\"text-align: right;\">\n",
       "      <th></th>\n",
       "      <th>Accuracy</th>\n",
       "      <th>F1 Score</th>\n",
       "      <th>Precision</th>\n",
       "      <th>Recall</th>\n",
       "    </tr>\n",
       "  </thead>\n",
       "  <tbody>\n",
       "    <tr>\n",
       "      <th>RandomizedSearchCV</th>\n",
       "      <td>1.00</td>\n",
       "      <td>1.00</td>\n",
       "      <td>1.00</td>\n",
       "      <td>1.00</td>\n",
       "    </tr>\n",
       "    <tr>\n",
       "      <th>GridSearchCV</th>\n",
       "      <td>1.00</td>\n",
       "      <td>1.00</td>\n",
       "      <td>1.00</td>\n",
       "      <td>1.00</td>\n",
       "    </tr>\n",
       "    <tr>\n",
       "      <th>DefaultParameters</th>\n",
       "      <td>1.00</td>\n",
       "      <td>1.00</td>\n",
       "      <td>1.00</td>\n",
       "      <td>1.00</td>\n",
       "    </tr>\n",
       "  </tbody>\n",
       "</table>\n",
       "</div>"
      ],
      "text/plain": [
       "                   Accuracy F1 Score Precision Recall\n",
       "RandomizedSearchCV     1.00     1.00      1.00   1.00\n",
       "GridSearchCV           1.00     1.00      1.00   1.00\n",
       "DefaultParameters      1.00     1.00      1.00   1.00"
      ]
     },
     "execution_count": 68,
     "metadata": {},
     "output_type": "execute_result"
    }
   ],
   "source": [
    "hyperparameter_compare = pd.DataFrame(\n",
    "    data=[clf_rand_eval, clf_grid_eval, clf_eval],\n",
    "    index=[\"RandomizedSearchCV\", \"GridSearchCV\", \"DefaultParameters\"])\n",
    "hyperparameter_compare"
   ]
  },
  {
   "cell_type": "markdown",
   "id": "24f3cad3-9a77-40e5-a450-d1bd628b4915",
   "metadata": {},
   "source": [
    "**Final Decision**: It is seems that our model **sometimes** score the best possible. However, in previous tries it perfomed worse!"
   ]
  },
  {
   "cell_type": "markdown",
   "id": "b60e86a2-a5cc-47fd-9422-e4f41525d0ec",
   "metadata": {},
   "source": [
    "### Hist Gradient Boosting Classifier"
   ]
  },
  {
   "cell_type": "markdown",
   "id": "318afc92-32df-4e53-8c16-380230fdba49",
   "metadata": {},
   "source": [
    "#### RandomizedSearchCV"
   ]
  },
  {
   "cell_type": "code",
   "execution_count": 69,
   "id": "49597874-bcc2-41a5-99c9-e045bf47efab",
   "metadata": {},
   "outputs": [],
   "source": [
    "hclf_randomized = {\n",
    "    'learning_rate': [0.01, 0.1, 0.2, 0.3],\n",
    "    'max_iter': [100, 200, 300, 400],\n",
    "    'max_depth': [None, 10, 20, 30],\n",
    "    'min_samples_leaf': [1, 5, 10, 20],\n",
    "    'max_leaf_nodes': [10, 20, 31, 50],\n",
    "    'l2_regularization': [0, 0.1, 1, 10],\n",
    "}"
   ]
  },
  {
   "cell_type": "code",
   "execution_count": 70,
   "id": "199b9814-54f8-472e-94a1-528e0c75f498",
   "metadata": {},
   "outputs": [
    {
     "data": {
      "text/plain": [
       "{'min_samples_leaf': 5,\n",
       " 'max_leaf_nodes': 20,\n",
       " 'max_iter': 400,\n",
       " 'max_depth': 20,\n",
       " 'learning_rate': 0.2,\n",
       " 'l2_regularization': 0.1}"
      ]
     },
     "execution_count": 70,
     "metadata": {},
     "output_type": "execute_result"
    }
   ],
   "source": [
    "# Creating estimator to try different params\n",
    "hclf_rand = RandomizedSearchCV(hclf, hclf_randomized, n_iter=10)\n",
    "\n",
    "# Fitting our model\n",
    "hclf_rand.fit(X_train, y_train)\n",
    "\n",
    "# Getting best params\n",
    "hclf_rand.best_params_"
   ]
  },
  {
   "cell_type": "code",
   "execution_count": 71,
   "id": "6c8c2a06-fdd6-44c5-b1a4-f58d62d56c14",
   "metadata": {},
   "outputs": [
    {
     "data": {
      "text/plain": [
       "1.0"
      ]
     },
     "execution_count": 71,
     "metadata": {},
     "output_type": "execute_result"
    }
   ],
   "source": [
    "# Getting the score\n",
    "hclf_rand.score(X_test, y_test)"
   ]
  },
  {
   "cell_type": "markdown",
   "id": "153d9d98-b4dc-4605-9905-53ddc98e7a53",
   "metadata": {},
   "source": [
    "**Evaluating**"
   ]
  },
  {
   "cell_type": "code",
   "execution_count": 72,
   "id": "4523d7ed-7f7b-486e-8dbf-dc7172a4e21c",
   "metadata": {},
   "outputs": [],
   "source": [
    "hclf_rand_pred = hclf_rand.predict(X_test)"
   ]
  },
  {
   "cell_type": "code",
   "execution_count": 73,
   "id": "81e188db-747a-4a2e-bac1-04ba34fb8a61",
   "metadata": {},
   "outputs": [
    {
     "data": {
      "text/plain": [
       "{'Accuracy': '1.00', 'F1 Score': '1.00', 'Precision': '1.00', 'Recall': '1.00'}"
      ]
     },
     "execution_count": 73,
     "metadata": {},
     "output_type": "execute_result"
    }
   ],
   "source": [
    "# Normal evaluating\n",
    "hclf_rand_eval = evaluate(y_test, hclf_rand_pred)\n",
    "hclf_rand_eval"
   ]
  },
  {
   "cell_type": "markdown",
   "id": "28d0e1de-03be-4218-b3ac-3edf2b5c8235",
   "metadata": {},
   "source": [
    "#### GridSearchCV"
   ]
  },
  {
   "cell_type": "code",
   "execution_count": 74,
   "id": "c63c02f4-7ed7-4b98-8b08-d7041036171c",
   "metadata": {},
   "outputs": [],
   "source": [
    "hclf_g = {\n",
    "    'learning_rate': [0.01, 0.1, 0.2],\n",
    "    'max_iter': [100, 200],\n",
    "    'max_depth': [None, 10],\n",
    "    'min_samples_leaf': [1, 5, 10],\n",
    "    'max_leaf_nodes': [20, 31, 50],\n",
    "    'l2_regularization': [1, 10],\n",
    "}"
   ]
  },
  {
   "cell_type": "code",
   "execution_count": 75,
   "id": "3f0be59f-83c1-4c83-98db-81c7105de7ee",
   "metadata": {},
   "outputs": [
    {
     "data": {
      "text/plain": [
       "{'min_samples_leaf': 5,\n",
       " 'max_leaf_nodes': 50,\n",
       " 'max_iter': 200,\n",
       " 'max_depth': 10,\n",
       " 'learning_rate': 0.2,\n",
       " 'l2_regularization': 10}"
      ]
     },
     "execution_count": 75,
     "metadata": {},
     "output_type": "execute_result"
    }
   ],
   "source": [
    "# Creating estimator to try different params\n",
    "hclf_grid = RandomizedSearchCV(hclf, hclf_g)\n",
    "\n",
    "# Fitting our model\n",
    "hclf_grid.fit(X_train, y_train)\n",
    "\n",
    "# Getting best params\n",
    "hclf_grid.best_params_"
   ]
  },
  {
   "cell_type": "code",
   "execution_count": 76,
   "id": "4a80a219-86d2-4cf6-9002-7e10e4dde740",
   "metadata": {},
   "outputs": [
    {
     "data": {
      "text/plain": [
       "1.0"
      ]
     },
     "execution_count": 76,
     "metadata": {},
     "output_type": "execute_result"
    }
   ],
   "source": [
    "# Scoring our model\n",
    "hclf_grid.score(X_test, y_test)"
   ]
  },
  {
   "cell_type": "markdown",
   "id": "52c443e1-620e-4cdb-9c00-3d7b1800e780",
   "metadata": {},
   "source": [
    "**Evaluating**"
   ]
  },
  {
   "cell_type": "code",
   "execution_count": 77,
   "id": "6161f01a-aa75-4cd2-8094-6dc686e725e5",
   "metadata": {},
   "outputs": [],
   "source": [
    "hclf_grid_pred = hclf_grid.predict(X_test)"
   ]
  },
  {
   "cell_type": "code",
   "execution_count": 78,
   "id": "4a3527b1-6b74-40e8-ad68-db2e863c6fb0",
   "metadata": {},
   "outputs": [
    {
     "data": {
      "text/plain": [
       "{'Accuracy': '1.00', 'F1 Score': '1.00', 'Precision': '1.00', 'Recall': '1.00'}"
      ]
     },
     "execution_count": 78,
     "metadata": {},
     "output_type": "execute_result"
    }
   ],
   "source": [
    "# Normal evaluating\n",
    "hclf_grid_eval = evaluate(y_test, hclf_grid_pred)\n",
    "hclf_grid_eval"
   ]
  },
  {
   "cell_type": "markdown",
   "id": "a9df2be9-f877-44a6-9e4d-699342712860",
   "metadata": {},
   "source": [
    "**Comparing GridSearchCV vs RandomizedSearchCV**"
   ]
  },
  {
   "cell_type": "code",
   "execution_count": 79,
   "id": "1f7aaa80-f240-42dd-8888-c9e6ccb16598",
   "metadata": {},
   "outputs": [
    {
     "data": {
      "text/html": [
       "<div>\n",
       "<style scoped>\n",
       "    .dataframe tbody tr th:only-of-type {\n",
       "        vertical-align: middle;\n",
       "    }\n",
       "\n",
       "    .dataframe tbody tr th {\n",
       "        vertical-align: top;\n",
       "    }\n",
       "\n",
       "    .dataframe thead th {\n",
       "        text-align: right;\n",
       "    }\n",
       "</style>\n",
       "<table border=\"1\" class=\"dataframe\">\n",
       "  <thead>\n",
       "    <tr style=\"text-align: right;\">\n",
       "      <th></th>\n",
       "      <th>Accuracy</th>\n",
       "      <th>F1 Score</th>\n",
       "      <th>Precision</th>\n",
       "      <th>Recall</th>\n",
       "    </tr>\n",
       "  </thead>\n",
       "  <tbody>\n",
       "    <tr>\n",
       "      <th>RandomizedSearchCV</th>\n",
       "      <td>1.00</td>\n",
       "      <td>1.00</td>\n",
       "      <td>1.00</td>\n",
       "      <td>1.00</td>\n",
       "    </tr>\n",
       "    <tr>\n",
       "      <th>GridSearchCV</th>\n",
       "      <td>1.00</td>\n",
       "      <td>1.00</td>\n",
       "      <td>1.00</td>\n",
       "      <td>1.00</td>\n",
       "    </tr>\n",
       "    <tr>\n",
       "      <th>DefaultParameters</th>\n",
       "      <td>0.95</td>\n",
       "      <td>0.95</td>\n",
       "      <td>0.96</td>\n",
       "      <td>0.95</td>\n",
       "    </tr>\n",
       "  </tbody>\n",
       "</table>\n",
       "</div>"
      ],
      "text/plain": [
       "                   Accuracy F1 Score Precision Recall\n",
       "RandomizedSearchCV     1.00     1.00      1.00   1.00\n",
       "GridSearchCV           1.00     1.00      1.00   1.00\n",
       "DefaultParameters      0.95     0.95      0.96   0.95"
      ]
     },
     "execution_count": 79,
     "metadata": {},
     "output_type": "execute_result"
    }
   ],
   "source": [
    "hyperparameter_compare_hclf = pd.DataFrame(\n",
    "    data=[hclf_rand_eval, hclf_grid_eval, hclf_eval],\n",
    "    index=[\"RandomizedSearchCV\", \"GridSearchCV\", \"DefaultParameters\"])\n",
    "hyperparameter_compare_hclf"
   ]
  },
  {
   "cell_type": "markdown",
   "id": "0fc7ffc2-5dfc-45a9-a4c1-75c9034ffa2e",
   "metadata": {},
   "source": [
    "### HistGradientBoostingClassifier vs RandomForestClassifier"
   ]
  },
  {
   "cell_type": "code",
   "execution_count": 80,
   "id": "e33693f8-9697-4c40-a9ae-b5e1c336813e",
   "metadata": {},
   "outputs": [
    {
     "data": {
      "text/html": [
       "<div>\n",
       "<style scoped>\n",
       "    .dataframe tbody tr th:only-of-type {\n",
       "        vertical-align: middle;\n",
       "    }\n",
       "\n",
       "    .dataframe tbody tr th {\n",
       "        vertical-align: top;\n",
       "    }\n",
       "\n",
       "    .dataframe thead th {\n",
       "        text-align: right;\n",
       "    }\n",
       "</style>\n",
       "<table border=\"1\" class=\"dataframe\">\n",
       "  <thead>\n",
       "    <tr style=\"text-align: right;\">\n",
       "      <th></th>\n",
       "      <th>Accuracy</th>\n",
       "      <th>F1 Score</th>\n",
       "      <th>Precision</th>\n",
       "      <th>Recall</th>\n",
       "    </tr>\n",
       "  </thead>\n",
       "  <tbody>\n",
       "    <tr>\n",
       "      <th>HistGradient (DP)</th>\n",
       "      <td>0.95</td>\n",
       "      <td>0.95</td>\n",
       "      <td>0.96</td>\n",
       "      <td>0.95</td>\n",
       "    </tr>\n",
       "    <tr>\n",
       "      <th>HistGradient (RSCV)</th>\n",
       "      <td>1.00</td>\n",
       "      <td>1.00</td>\n",
       "      <td>1.00</td>\n",
       "      <td>1.00</td>\n",
       "    </tr>\n",
       "    <tr>\n",
       "      <th>HistGradient (GSCV)</th>\n",
       "      <td>1.00</td>\n",
       "      <td>1.00</td>\n",
       "      <td>1.00</td>\n",
       "      <td>1.00</td>\n",
       "    </tr>\n",
       "    <tr>\n",
       "      <th>RandomForest (DP)</th>\n",
       "      <td>1.00</td>\n",
       "      <td>1.00</td>\n",
       "      <td>1.00</td>\n",
       "      <td>1.00</td>\n",
       "    </tr>\n",
       "    <tr>\n",
       "      <th>RandomForest (RSCV)</th>\n",
       "      <td>1.00</td>\n",
       "      <td>1.00</td>\n",
       "      <td>1.00</td>\n",
       "      <td>1.00</td>\n",
       "    </tr>\n",
       "    <tr>\n",
       "      <th>RandomForest (GSCV)</th>\n",
       "      <td>1.00</td>\n",
       "      <td>1.00</td>\n",
       "      <td>1.00</td>\n",
       "      <td>1.00</td>\n",
       "    </tr>\n",
       "  </tbody>\n",
       "</table>\n",
       "</div>"
      ],
      "text/plain": [
       "                    Accuracy F1 Score Precision Recall\n",
       "HistGradient (DP)       0.95     0.95      0.96   0.95\n",
       "HistGradient (RSCV)     1.00     1.00      1.00   1.00\n",
       "HistGradient (GSCV)     1.00     1.00      1.00   1.00\n",
       "RandomForest (DP)       1.00     1.00      1.00   1.00\n",
       "RandomForest (RSCV)     1.00     1.00      1.00   1.00\n",
       "RandomForest (GSCV)     1.00     1.00      1.00   1.00"
      ]
     },
     "execution_count": 80,
     "metadata": {},
     "output_type": "execute_result"
    }
   ],
   "source": [
    "# Creating Data\n",
    "data = [hclf_eval, hclf_rand_eval, hclf_grid_eval, clf_eval, clf_rand_eval, clf_grid_eval]\n",
    "# Creating Labels\n",
    "index = [\"HistGradient (DP)\", \"HistGradient (RSCV)\", \"HistGradient (GSCV)\", \"RandomForest (DP)\", \"RandomForest (RSCV)\", \"RandomForest (GSCV)\"]\n",
    "\n",
    "# Creating Pandas DataFrame to compare our models\n",
    "comp_hclf_vs_clf = pd.DataFrame(\n",
    "    data=data,\n",
    "    index=index)\n",
    "comp_hclf_vs_clf"
   ]
  },
  {
   "cell_type": "markdown",
   "id": "54041c23-2df6-4af1-a2e9-de65210c78b2",
   "metadata": {},
   "source": [
    "**Final Decision**: It seems that `HistGradientBoostingClassifier` model performs better after hyperparameter tuning. However, both of our models are really close. Therefore, I will export both of the models."
   ]
  },
  {
   "cell_type": "markdown",
   "id": "d40397ce-305e-4f2c-8e3d-3b774a5cc819",
   "metadata": {},
   "source": [
    "## Saving the Models"
   ]
  },
  {
   "cell_type": "markdown",
   "id": "8be5e5f9-4c3e-485c-b177-de68a5e0ce1f",
   "metadata": {},
   "source": [
    "### Random Forest Classifier\n",
    "\n",
    "We will save our model using both `pickle` and `joblib` to `/model` folder!"
   ]
  },
  {
   "cell_type": "markdown",
   "id": "61f34188-5cdc-4b56-9462-2d2f54059cd8",
   "metadata": {},
   "source": [
    "**Pickle**"
   ]
  },
  {
   "cell_type": "code",
   "execution_count": 82,
   "id": "8ede2972-c2c5-48d0-acec-e9cfb51c0ad8",
   "metadata": {},
   "outputs": [],
   "source": [
    "import pickle\n",
    "\n",
    "# Saving our Random Forest Classifier (Default Parameter)\n",
    "pickle.dump(clf, open(\"../models/default_parameter_random_forest_model.pkl\", \"wb\"))\n",
    "\n",
    "# Saving our Random Forest Classifier (RandomizedSearchCV)\n",
    "pickle.dump(clf_rand, open(\"../models/randomized_search_random_forest_model.pkl\", \"wb\"))\n",
    "\n",
    "# Saving our Random Forest Classifier (GridSearchCV)\n",
    "pickle.dump(clf_grid, open(\"../models/grid_search_random_forest_model.pkl\", \"wb\"))"
   ]
  },
  {
   "cell_type": "markdown",
   "id": "a56ed3f4-e905-4841-a0c6-dad812f877b0",
   "metadata": {},
   "source": [
    "**Joblib**"
   ]
  },
  {
   "cell_type": "code",
   "execution_count": 83,
   "id": "61e9a1f8-e9cc-4903-b0f0-b3ca85b31190",
   "metadata": {},
   "outputs": [
    {
     "data": {
      "text/plain": [
       "['../models/grid_search_random_forest_model.joblib']"
      ]
     },
     "execution_count": 83,
     "metadata": {},
     "output_type": "execute_result"
    }
   ],
   "source": [
    "import joblib\n",
    "\n",
    "# Saving our Random Forest Classifier (Default Parameter)\n",
    "joblib.dump(clf, filename=\"../models/default_parameter_random_forest_model.joblib\")\n",
    "\n",
    "# Saving our Random Forest Classifier (RandomizedSearchCV)\n",
    "joblib.dump(clf_rand, filename=\"../models/randomized_search_random_forest_model.joblib\")\n",
    "\n",
    "# Saving our Random Forest Classifier (GridSearchCV)\n",
    "joblib.dump(clf_grid, filename=\"../models/grid_search_random_forest_model.joblib\")"
   ]
  },
  {
   "cell_type": "markdown",
   "id": "43827770-43f2-42f2-9059-379fba315c7a",
   "metadata": {},
   "source": [
    "### Hist Gradient Boosting Classifier\n",
    "\n",
    "We will save our model using both `pickle` and `joblib` to `/model` folder!"
   ]
  },
  {
   "cell_type": "markdown",
   "id": "dfd7aaf2-cf30-481d-9d30-566cb1fac80f",
   "metadata": {},
   "source": [
    "**Pickle**"
   ]
  },
  {
   "cell_type": "code",
   "execution_count": 84,
   "id": "b72b94d4-1b83-4ea6-84e9-5789f937b692",
   "metadata": {},
   "outputs": [],
   "source": [
    "import pickle\n",
    "\n",
    "# Saving our Hist Gradient Boosting Classifier (Default Parameter)\n",
    "pickle.dump(hclf, open(\"../models/default_parameter_hist_gradient_model.pkl\", \"wb\"))\n",
    "\n",
    "# Saving our Hist Gradient Boosting Classifier (RandomizedSearchCV)\n",
    "pickle.dump(hclf_rand, open(\"../models/randomized_search_hist_gradient_model.pkl\", \"wb\"))\n",
    "\n",
    "# Saving our Hist Gradient Boosting Classifier (GridSearchCV)\n",
    "pickle.dump(hclf_grid, open(\"../models/grid_search_hist_gradient_model.pkl\", \"wb\"))"
   ]
  },
  {
   "cell_type": "markdown",
   "id": "593b2666-f220-4fc2-84e0-b66e32ef0fe3",
   "metadata": {},
   "source": [
    "**Joblib**"
   ]
  },
  {
   "cell_type": "code",
   "execution_count": 85,
   "id": "d45f4aa5-01af-4660-830a-7e02e34c41be",
   "metadata": {},
   "outputs": [
    {
     "data": {
      "text/plain": [
       "['../models/grid_search_hist_gradient_model.joblib']"
      ]
     },
     "execution_count": 85,
     "metadata": {},
     "output_type": "execute_result"
    }
   ],
   "source": [
    "import joblib\n",
    "\n",
    "# Saving our Hist Gradient Boosting Classifier (Default Parameter)\n",
    "joblib.dump(hclf, filename=\"../models/default_parameter_hist_gradient_model.joblib\")\n",
    "\n",
    "# Saving our Hist Gradient Boosting Classifier (RandomizedSearchCV)\n",
    "joblib.dump(hclf_rand, filename=\"../models/randomized_search_hist_gradient_model.joblib\")\n",
    "\n",
    "# Saving our Hist Gradient Boosting Classifier (GridSearchCV)\n",
    "joblib.dump(hclf_grid, filename=\"../models/grid_search_hist_gradient_model.joblib\")"
   ]
  },
  {
   "cell_type": "markdown",
   "id": "ab6655bf-15a5-45c0-9aee-8e97d563daac",
   "metadata": {},
   "source": [
    "## Testing the Saved the Models\n",
    "\n",
    "We will upload the models with `pickle` and `joblib` to test if they are saved successfully! "
   ]
  },
  {
   "cell_type": "markdown",
   "id": "3ebfde09-728f-4769-aa83-3603acfd005d",
   "metadata": {},
   "source": [
    "**Pickle**"
   ]
  },
  {
   "cell_type": "code",
   "execution_count": 86,
   "id": "a97ee094-4f7d-4b34-8b40-010361edae10",
   "metadata": {},
   "outputs": [],
   "source": [
    "import pickle\n",
    "\n",
    "pickle_clf = pickle.load(open(\"../models/default_parameter_random_forest_model.pkl\", \"rb\"))\n",
    "pickle_hclf = pickle.load(open(\"../models/default_parameter_hist_gradient_model.pkl\", \"rb\"))"
   ]
  },
  {
   "cell_type": "code",
   "execution_count": 87,
   "id": "5307ce1d-995b-456b-b26b-0274d5f5c14f",
   "metadata": {},
   "outputs": [
    {
     "data": {
      "text/plain": [
       "1.0"
      ]
     },
     "execution_count": 87,
     "metadata": {},
     "output_type": "execute_result"
    }
   ],
   "source": [
    "pickle_clf.score(X_test, y_test)"
   ]
  },
  {
   "cell_type": "code",
   "execution_count": 88,
   "id": "3622c4fe-3ecd-4afc-989b-08cac50983f1",
   "metadata": {},
   "outputs": [
    {
     "data": {
      "text/plain": [
       "0.9545454545454546"
      ]
     },
     "execution_count": 88,
     "metadata": {},
     "output_type": "execute_result"
    }
   ],
   "source": [
    "pickle_hclf.score(X_test, y_test)"
   ]
  },
  {
   "cell_type": "markdown",
   "id": "98902b75-427e-4b67-bb93-649687964491",
   "metadata": {},
   "source": [
    "It seems that our loaded models are working just file."
   ]
  },
  {
   "cell_type": "markdown",
   "id": "8747fadc-fc46-44d5-94f6-0eb81a0ab0ad",
   "metadata": {},
   "source": [
    "**Joblib**"
   ]
  },
  {
   "cell_type": "code",
   "execution_count": 89,
   "id": "4c9fdf73-2d8f-4f0f-8b5a-12da6c05d988",
   "metadata": {},
   "outputs": [],
   "source": [
    "import joblib\n",
    "\n",
    "joblib_clf = joblib.load(filename=\"../models/default_parameter_random_forest_model.joblib\")\n",
    "joblib_hclf = joblib.load(filename=\"../models/default_parameter_hist_gradient_model.joblib\")"
   ]
  },
  {
   "cell_type": "code",
   "execution_count": 90,
   "id": "9c22eae0-7f40-4098-9fbd-9501f9168fae",
   "metadata": {},
   "outputs": [
    {
     "data": {
      "text/plain": [
       "1.0"
      ]
     },
     "execution_count": 90,
     "metadata": {},
     "output_type": "execute_result"
    }
   ],
   "source": [
    "joblib_clf.score(X_test, y_test)"
   ]
  },
  {
   "cell_type": "code",
   "execution_count": 91,
   "id": "67e340d3-9d57-4af9-a9b8-30a625aedb2d",
   "metadata": {},
   "outputs": [
    {
     "data": {
      "text/plain": [
       "0.9545454545454546"
      ]
     },
     "execution_count": 91,
     "metadata": {},
     "output_type": "execute_result"
    }
   ],
   "source": [
    "joblib_hclf.score(X_test, y_test)"
   ]
  },
  {
   "cell_type": "markdown",
   "id": "58a09e3c-a786-4ccb-9b6a-2074072312be",
   "metadata": {},
   "source": [
    "Loaded joblib models are also working just fine."
   ]
  }
 ],
 "metadata": {
  "kernelspec": {
   "display_name": "Python 3 (ipykernel)",
   "language": "python",
   "name": "python3"
  },
  "language_info": {
   "codemirror_mode": {
    "name": "ipython",
    "version": 3
   },
   "file_extension": ".py",
   "mimetype": "text/x-python",
   "name": "python",
   "nbconvert_exporter": "python",
   "pygments_lexer": "ipython3",
   "version": "3.12.7"
  }
 },
 "nbformat": 4,
 "nbformat_minor": 5
}
